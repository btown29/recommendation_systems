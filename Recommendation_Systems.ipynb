{
 "cells": [
  {
   "cell_type": "markdown",
   "metadata": {
    "id": "pXQzH0nC5JtP"
   },
   "source": [
    "# **Project: Amazon Product Recommendation System**\n",
    "\n",
    "# **Marks: 40**\n",
    "\n",
    "\n",
    "Welcome to the project on Recommendation Systems. We will work with the Amazon product reviews dataset for this project. The dataset contains ratings of different electronic products. It does not include information about the products or reviews to avoid bias while building the model.\n",
    "\n",
    "--------------\n",
    "## **Context:**\n",
    "--------------\n",
    "\n",
    "Today, information is growing exponentially with volume, velocity and variety throughout the globe. This has lead to information overload, and too many choices for the consumer of any business. It represents a real dilemma for these consumers and they often turn to denial. Recommender Systems are one of the best tools that help recommending products to consumers while they are browsing online. Providing personalized recommendations which is most relevant for the user is what's most likely to keep them engaged and help business.\n",
    "\n",
    "E-commerce websites like Amazon, Walmart, Target and Etsy use different recommendation models to provide personalized suggestions to different users. These companies spend millions of dollars to come up with algorithmic techniques that can provide personalized recommendations to their users.\n",
    "\n",
    "Amazon, for example, is well-known for its accurate selection of recommendations in its online site. Amazon's recommendation system is capable of intelligently analyzing and predicting customers' shopping preferences in order to offer them a list of recommended products. Amazon's recommendation algorithm is therefore a key element in using AI to improve the personalization of its website. For example, one of the baseline recommendation models that Amazon uses is item-to-item collaborative filtering, which scales to massive data sets and produces high-quality recommendations in real-time.\n",
    "\n",
    "----------------\n",
    "## **Objective:**\n",
    "----------------\n",
    "\n",
    "You are a Data Science Manager at Amazon, and have been given the task of building a recommendation system to recommend products to customers based on their previous ratings for other products. You have a collection of labeled data of Amazon reviews of products. The goal is to extract meaningful insights from the data and build a recommendation system that helps in recommending products to online consumers.\n",
    "\n",
    "-----------------------------\n",
    "## **Dataset:**\n",
    "-----------------------------\n",
    "\n",
    "The Amazon dataset contains the following attributes:\n",
    "\n",
    "- **userId:** Every user identified with a unique id\n",
    "- **productId:** Every product identified with a unique id\n",
    "- **Rating:** The rating of the corresponding product by the corresponding user\n",
    "- **timestamp:** Time of the rating. We **will not use this column** to solve the current problem"
   ]
  },
  {
   "cell_type": "markdown",
   "metadata": {
    "id": "nmdPxJ2Q7W7p"
   },
   "source": [
    "**Note:** The code has some user defined functions that will be usefull while making recommendations and measure model performance, you can use these functions or can create your own functions."
   ]
  },
  {
   "cell_type": "markdown",
   "metadata": {
    "id": "UoRfgjS2yekq"
   },
   "source": [
    "Sometimes, the installation of the surprise library, which is used to build recommendation systems, faces issues in Jupyter. To avoid any issues, it is advised to use **Google Colab** for this project.\n",
    "\n",
    "Let's start by mounting the Google drive on Colab."
   ]
  },
  {
   "cell_type": "code",
   "execution_count": 1,
   "metadata": {
    "colab": {
     "base_uri": "https://localhost:8080/"
    },
    "id": "GZ0YAszcT4zK",
    "outputId": "b2e7562e-73c2-4f42-ac30-cbbae6c74e14"
   },
   "outputs": [],
   "source": [
    "#from google.colab import drive\n",
    "#drive.mount('/content/drive')"
   ]
  },
  {
   "cell_type": "markdown",
   "metadata": {
    "id": "0Ibk07-Cyekt"
   },
   "source": [
    "**Installing surprise library**"
   ]
  },
  {
   "cell_type": "code",
   "execution_count": 34,
   "metadata": {
    "colab": {
     "base_uri": "https://localhost:8080/"
    },
    "id": "G0uPjUmhv_m7",
    "outputId": "bbaf06e9-2bbe-4f57-b7e4-f3fa13de75ea"
   },
   "outputs": [
    {
     "name": "stdout",
     "output_type": "stream",
     "text": [
      "Requirement already satisfied: numpy==1.26.4 in c:\\users\\bryan\\anaconda3\\envs\\testing\\lib\\site-packages (1.26.4)\n",
      "Requirement already satisfied: surprise in c:\\users\\bryan\\anaconda3\\envs\\testing\\lib\\site-packages (0.1)\n",
      "Requirement already satisfied: scikit-surprise in c:\\users\\bryan\\anaconda3\\envs\\testing\\lib\\site-packages (from surprise) (1.1.4)\n",
      "Requirement already satisfied: joblib>=1.2.0 in c:\\users\\bryan\\anaconda3\\envs\\testing\\lib\\site-packages (from scikit-surprise->surprise) (1.5.1)\n",
      "Requirement already satisfied: numpy>=1.19.5 in c:\\users\\bryan\\anaconda3\\envs\\testing\\lib\\site-packages (from scikit-surprise->surprise) (1.26.4)\n",
      "Requirement already satisfied: scipy>=1.6.0 in c:\\users\\bryan\\anaconda3\\envs\\testing\\lib\\site-packages (from scikit-surprise->surprise) (1.15.3)\n"
     ]
    }
   ],
   "source": [
    "!pip install --upgrade numpy==1.26.4\n",
    "!pip install surprise"
   ]
  },
  {
   "cell_type": "code",
   "execution_count": 2,
   "metadata": {
    "id": "waxxMBl4Z37Q"
   },
   "outputs": [],
   "source": [
    "# Import library surprise\n",
    "import surprise"
   ]
  },
  {
   "cell_type": "markdown",
   "metadata": {
    "id": "7fIt4jcFIm76"
   },
   "source": [
    "## **Importing the necessary libraries and overview of the dataset**"
   ]
  },
  {
   "cell_type": "code",
   "execution_count": 4,
   "metadata": {
    "id": "jzu2P-TT5JtP"
   },
   "outputs": [],
   "source": [
    "# Used to ignore the warning given as output of the code\n",
    "import warnings\n",
    "warnings.filterwarnings('ignore')\n",
    "\n",
    "# Basic libraries of python for numeric and dataframe computations\n",
    "import numpy as np, pandas as pd\n",
    "\n",
    "# Basic library for data visualization\n",
    "import matplotlib.pyplot as plt\n",
    "\n",
    "# Slightly advanced library for data visualization\n",
    "import seaborn as sns\n",
    "\n",
    "# A dictionary output that does not raise a key error\n",
    "from collections import defaultdict\n",
    "\n",
    "# A performance metrics in sklearn\n",
    "from sklearn.metrics import mean_squared_error"
   ]
  },
  {
   "cell_type": "markdown",
   "metadata": {
    "id": "NrXYJAv95JtP"
   },
   "source": [
    "### **Loading the data**\n",
    "- Import the Dataset\n",
    "- Add column names ['user_id', 'prod_id', 'rating', 'timestamp']\n",
    "- Drop the column timestamp\n",
    "- Copy the data to another DataFrame called **df**"
   ]
  },
  {
   "cell_type": "code",
   "execution_count": 5,
   "metadata": {
    "id": "JGb-Hk1B5JtP"
   },
   "outputs": [],
   "source": [
    "#importing dataset\n",
    "data = pd.read_csv(\"ratings_Electronics.csv\")"
   ]
  },
  {
   "cell_type": "code",
   "execution_count": 6,
   "metadata": {
    "colab": {
     "base_uri": "https://localhost:8080/",
     "height": 81
    },
    "id": "sCtKTsAtZ37R",
    "outputId": "eb4e3b34-2e31-4d6e-bd97-d3055cd9fe89"
   },
   "outputs": [
    {
     "data": {
      "text/html": [
       "<div>\n",
       "<style scoped>\n",
       "    .dataframe tbody tr th:only-of-type {\n",
       "        vertical-align: middle;\n",
       "    }\n",
       "\n",
       "    .dataframe tbody tr th {\n",
       "        vertical-align: top;\n",
       "    }\n",
       "\n",
       "    .dataframe thead th {\n",
       "        text-align: right;\n",
       "    }\n",
       "</style>\n",
       "<table border=\"1\" class=\"dataframe\">\n",
       "  <thead>\n",
       "    <tr style=\"text-align: right;\">\n",
       "      <th></th>\n",
       "      <th>AKM1MP6P0OYPR</th>\n",
       "      <th>0132793040</th>\n",
       "      <th>5.0</th>\n",
       "      <th>1365811200</th>\n",
       "    </tr>\n",
       "  </thead>\n",
       "  <tbody>\n",
       "    <tr>\n",
       "      <th>0</th>\n",
       "      <td>A2CX7LUOHB2NDG</td>\n",
       "      <td>0321732944</td>\n",
       "      <td>5.0</td>\n",
       "      <td>1341100800</td>\n",
       "    </tr>\n",
       "  </tbody>\n",
       "</table>\n",
       "</div>"
      ],
      "text/plain": [
       "    AKM1MP6P0OYPR  0132793040  5.0  1365811200\n",
       "0  A2CX7LUOHB2NDG  0321732944  5.0  1341100800"
      ]
     },
     "execution_count": 6,
     "metadata": {},
     "output_type": "execute_result"
    }
   ],
   "source": [
    "#Checking dataset\n",
    "data.head(1)"
   ]
  },
  {
   "cell_type": "code",
   "execution_count": 7,
   "metadata": {
    "id": "X3aHylmyZ37S"
   },
   "outputs": [],
   "source": [
    "# We create a dataframe with columns name\n",
    "data = pd.DataFrame(data.values, columns = ['user_id', 'prod_id', 'rating', 'timestamp'])"
   ]
  },
  {
   "cell_type": "code",
   "execution_count": 8,
   "metadata": {
    "colab": {
     "base_uri": "https://localhost:8080/",
     "height": 81
    },
    "id": "FTDsZHMuZ37S",
    "outputId": "d9595f86-98b2-4c75-e00e-3bef21df5bb3"
   },
   "outputs": [
    {
     "data": {
      "text/html": [
       "<div>\n",
       "<style scoped>\n",
       "    .dataframe tbody tr th:only-of-type {\n",
       "        vertical-align: middle;\n",
       "    }\n",
       "\n",
       "    .dataframe tbody tr th {\n",
       "        vertical-align: top;\n",
       "    }\n",
       "\n",
       "    .dataframe thead th {\n",
       "        text-align: right;\n",
       "    }\n",
       "</style>\n",
       "<table border=\"1\" class=\"dataframe\">\n",
       "  <thead>\n",
       "    <tr style=\"text-align: right;\">\n",
       "      <th></th>\n",
       "      <th>user_id</th>\n",
       "      <th>prod_id</th>\n",
       "      <th>rating</th>\n",
       "      <th>timestamp</th>\n",
       "    </tr>\n",
       "  </thead>\n",
       "  <tbody>\n",
       "    <tr>\n",
       "      <th>0</th>\n",
       "      <td>A2CX7LUOHB2NDG</td>\n",
       "      <td>0321732944</td>\n",
       "      <td>5.0</td>\n",
       "      <td>1341100800</td>\n",
       "    </tr>\n",
       "  </tbody>\n",
       "</table>\n",
       "</div>"
      ],
      "text/plain": [
       "          user_id     prod_id rating   timestamp\n",
       "0  A2CX7LUOHB2NDG  0321732944    5.0  1341100800"
      ]
     },
     "execution_count": 8,
     "metadata": {},
     "output_type": "execute_result"
    }
   ],
   "source": [
    "# Checking dataset after creation of dataframe\n",
    "data.head(1)"
   ]
  },
  {
   "cell_type": "code",
   "execution_count": 9,
   "metadata": {
    "id": "QIL9qZLjZ37S"
   },
   "outputs": [],
   "source": [
    "#Drop column timestamp\n",
    "data.drop(columns = ['timestamp'], inplace = True)"
   ]
  },
  {
   "cell_type": "code",
   "execution_count": 10,
   "metadata": {
    "id": "BQdCGjZLZ37S"
   },
   "outputs": [],
   "source": [
    "#Copy dataframe to save data before processing\n",
    "df = data.copy()"
   ]
  },
  {
   "cell_type": "code",
   "execution_count": 11,
   "metadata": {
    "colab": {
     "base_uri": "https://localhost:8080/"
    },
    "id": "xI3hG_NUZ37S",
    "outputId": "bf706252-40e6-4eef-e0e2-136653d93bab"
   },
   "outputs": [
    {
     "name": "stdout",
     "output_type": "stream",
     "text": [
      "<class 'pandas.core.frame.DataFrame'>\n",
      "RangeIndex: 7824481 entries, 0 to 7824480\n",
      "Data columns (total 3 columns):\n",
      " #   Column   Dtype \n",
      "---  ------   ----- \n",
      " 0   user_id  object\n",
      " 1   prod_id  object\n",
      " 2   rating   object\n",
      "dtypes: object(3)\n",
      "memory usage: 179.1+ MB\n"
     ]
    }
   ],
   "source": [
    "# Checking overview of this dataframe\n",
    "data.info()"
   ]
  },
  {
   "cell_type": "markdown",
   "metadata": {
    "id": "OVQnSG5g_9uX"
   },
   "source": [
    "**As this dataset is very large and has 7,824,482 observations, it is not computationally possible to build a model using this. Moreover, many users have only rated a few products and also some products are rated by very few users. Hence, we can reduce the dataset by considering certain logical assumptions.**\n",
    "\n",
    "Here, we will be taking users who have given at least 50 ratings, and the products that have at least 5 ratings, as when we shop online we prefer to have some number of ratings of a product."
   ]
  },
  {
   "cell_type": "code",
   "execution_count": 12,
   "metadata": {
    "id": "4yt9W7Q32EQQ"
   },
   "outputs": [],
   "source": [
    "# Get the column containing the users\n",
    "users = df.user_id\n",
    "\n",
    "# Create a dictionary from users to their number of ratings\n",
    "ratings_count = dict()\n",
    "\n",
    "for user in users:\n",
    "\n",
    "    # If we already have the user, just add 1 to their rating count\n",
    "    if user in ratings_count:\n",
    "        ratings_count[user] += 1\n",
    "\n",
    "    # Otherwise, set their rating count to 1\n",
    "    else:\n",
    "        ratings_count[user] = 1"
   ]
  },
  {
   "cell_type": "code",
   "execution_count": 13,
   "metadata": {
    "id": "19XB60dq2EQR"
   },
   "outputs": [],
   "source": [
    "# We want our users to have at least 50 ratings to be considered\n",
    "RATINGS_CUTOFF = 50\n",
    "\n",
    "remove_users = []\n",
    "\n",
    "for user, num_ratings in ratings_count.items():\n",
    "    if num_ratings < RATINGS_CUTOFF:\n",
    "        remove_users.append(user)\n",
    "\n",
    "df = df.loc[ ~ df.user_id.isin(remove_users)]"
   ]
  },
  {
   "cell_type": "code",
   "execution_count": 14,
   "metadata": {
    "id": "33UzK1D82EQS"
   },
   "outputs": [],
   "source": [
    "# Get the column containing the products\n",
    "prods = df.prod_id\n",
    "\n",
    "# Create a dictionary from products to their number of ratings\n",
    "ratings_count = dict()\n",
    "\n",
    "for prod in prods:\n",
    "\n",
    "    # If we already have the product, just add 1 to its rating count\n",
    "    if prod in ratings_count:\n",
    "        ratings_count[prod] += 1\n",
    "\n",
    "    # Otherwise, set their rating count to 1\n",
    "    else:\n",
    "        ratings_count[prod] = 1"
   ]
  },
  {
   "cell_type": "code",
   "execution_count": 15,
   "metadata": {
    "id": "u6YE-lUp2EQT"
   },
   "outputs": [],
   "source": [
    "# We want our item to have at least 5 ratings to be considered\n",
    "RATINGS_CUTOFF = 5\n",
    "\n",
    "remove_users = []\n",
    "\n",
    "for user, num_ratings in ratings_count.items():\n",
    "    if num_ratings < RATINGS_CUTOFF:\n",
    "        remove_users.append(user)\n",
    "\n",
    "df_final = df.loc[~ df.prod_id.isin(remove_users)]"
   ]
  },
  {
   "cell_type": "code",
   "execution_count": 16,
   "metadata": {
    "colab": {
     "base_uri": "https://localhost:8080/",
     "height": 206
    },
    "id": "aL1JZ00o5JtQ",
    "outputId": "5a97e66d-250b-471f-b876-9b96e475ba4d"
   },
   "outputs": [
    {
     "data": {
      "text/html": [
       "<div>\n",
       "<style scoped>\n",
       "    .dataframe tbody tr th:only-of-type {\n",
       "        vertical-align: middle;\n",
       "    }\n",
       "\n",
       "    .dataframe tbody tr th {\n",
       "        vertical-align: top;\n",
       "    }\n",
       "\n",
       "    .dataframe thead th {\n",
       "        text-align: right;\n",
       "    }\n",
       "</style>\n",
       "<table border=\"1\" class=\"dataframe\">\n",
       "  <thead>\n",
       "    <tr style=\"text-align: right;\">\n",
       "      <th></th>\n",
       "      <th>user_id</th>\n",
       "      <th>prod_id</th>\n",
       "      <th>rating</th>\n",
       "    </tr>\n",
       "  </thead>\n",
       "  <tbody>\n",
       "    <tr>\n",
       "      <th>1309</th>\n",
       "      <td>A3LDPF5FMB782Z</td>\n",
       "      <td>1400501466</td>\n",
       "      <td>5.0</td>\n",
       "    </tr>\n",
       "    <tr>\n",
       "      <th>1321</th>\n",
       "      <td>A1A5KUIIIHFF4U</td>\n",
       "      <td>1400501466</td>\n",
       "      <td>1.0</td>\n",
       "    </tr>\n",
       "    <tr>\n",
       "      <th>1334</th>\n",
       "      <td>A2XIOXRRYX0KZY</td>\n",
       "      <td>1400501466</td>\n",
       "      <td>3.0</td>\n",
       "    </tr>\n",
       "    <tr>\n",
       "      <th>1450</th>\n",
       "      <td>AW3LX47IHPFRL</td>\n",
       "      <td>1400501466</td>\n",
       "      <td>5.0</td>\n",
       "    </tr>\n",
       "    <tr>\n",
       "      <th>1455</th>\n",
       "      <td>A1E3OB6QMBKRYZ</td>\n",
       "      <td>1400501466</td>\n",
       "      <td>1.0</td>\n",
       "    </tr>\n",
       "  </tbody>\n",
       "</table>\n",
       "</div>"
      ],
      "text/plain": [
       "             user_id     prod_id rating\n",
       "1309  A3LDPF5FMB782Z  1400501466    5.0\n",
       "1321  A1A5KUIIIHFF4U  1400501466    1.0\n",
       "1334  A2XIOXRRYX0KZY  1400501466    3.0\n",
       "1450   AW3LX47IHPFRL  1400501466    5.0\n",
       "1455  A1E3OB6QMBKRYZ  1400501466    1.0"
      ]
     },
     "execution_count": 16,
     "metadata": {},
     "output_type": "execute_result"
    }
   ],
   "source": [
    "# Print a few rows of the imported dataset\n",
    "df_final.head()"
   ]
  },
  {
   "cell_type": "markdown",
   "metadata": {
    "id": "GuPoy_XfxhXZ"
   },
   "source": [
    "## **Exploratory Data Analysis**"
   ]
  },
  {
   "cell_type": "markdown",
   "metadata": {
    "id": "s0d0bWeG-sVB"
   },
   "source": [
    "### **Shape of the data**"
   ]
  },
  {
   "cell_type": "markdown",
   "metadata": {
    "id": "qyBVTRDTyek0"
   },
   "source": [
    "### **Check the number of rows and columns and provide observations.**"
   ]
  },
  {
   "cell_type": "code",
   "execution_count": 17,
   "metadata": {
    "colab": {
     "base_uri": "https://localhost:8080/"
    },
    "id": "fJ4eQKaY5JtQ",
    "outputId": "3d762d68-f349-45c6-8fa9-7feed1324b07"
   },
   "outputs": [
    {
     "data": {
      "text/plain": [
       "(125871, 3)"
      ]
     },
     "execution_count": 17,
     "metadata": {},
     "output_type": "execute_result"
    }
   ],
   "source": [
    "# Check the number of rows and columns and provide observations\n",
    "df.shape"
   ]
  },
  {
   "cell_type": "markdown",
   "metadata": {
    "id": "Slp-fgWQ-sVD"
   },
   "source": [
    "**Write your observations here:** There are 125871 rows and 3 columns"
   ]
  },
  {
   "cell_type": "markdown",
   "metadata": {
    "id": "lAMWm0nC-sVF"
   },
   "source": [
    "### **Data types**"
   ]
  },
  {
   "cell_type": "code",
   "execution_count": 18,
   "metadata": {
    "colab": {
     "base_uri": "https://localhost:8080/"
    },
    "id": "SVrgMkye5JtQ",
    "outputId": "cca2c669-0033-4036-ac93-53072e045169"
   },
   "outputs": [
    {
     "name": "stdout",
     "output_type": "stream",
     "text": [
      "<class 'pandas.core.frame.DataFrame'>\n",
      "Index: 125871 entries, 93 to 7824443\n",
      "Data columns (total 3 columns):\n",
      " #   Column   Non-Null Count   Dtype \n",
      "---  ------   --------------   ----- \n",
      " 0   user_id  125871 non-null  object\n",
      " 1   prod_id  125871 non-null  object\n",
      " 2   rating   125871 non-null  object\n",
      "dtypes: object(3)\n",
      "memory usage: 3.8+ MB\n"
     ]
    }
   ],
   "source": [
    "# Check Data types and provide observations\n",
    "df.info()"
   ]
  },
  {
   "cell_type": "markdown",
   "metadata": {
    "id": "z4fOE02D-sVF"
   },
   "source": [
    "**Write your observations here:** Each column is an object, so we should consider it when we treat ratings as number"
   ]
  },
  {
   "cell_type": "markdown",
   "metadata": {
    "id": "lTMpOROT-sVG"
   },
   "source": [
    "### **Checking for missing values**"
   ]
  },
  {
   "cell_type": "code",
   "execution_count": 19,
   "metadata": {
    "colab": {
     "base_uri": "https://localhost:8080/",
     "height": 178
    },
    "id": "vt-VEjMA5JtQ",
    "outputId": "67c38fbe-27b9-407d-f323-cabe97730d03"
   },
   "outputs": [
    {
     "data": {
      "text/plain": [
       "user_id    0\n",
       "prod_id    0\n",
       "rating     0\n",
       "dtype: int64"
      ]
     },
     "execution_count": 19,
     "metadata": {},
     "output_type": "execute_result"
    }
   ],
   "source": [
    "# Check for missing values present and provide observations\n",
    "df.isnull().sum()"
   ]
  },
  {
   "cell_type": "markdown",
   "metadata": {
    "id": "qMWuBNhI5JtR"
   },
   "source": [
    "**Write your observations here:** There are no missing values in this dataset"
   ]
  },
  {
   "cell_type": "markdown",
   "metadata": {
    "id": "wETrCg48-sVG"
   },
   "source": [
    "### **Summary Statistics**"
   ]
  },
  {
   "cell_type": "code",
   "execution_count": 20,
   "metadata": {
    "id": "tYm30MXR5JtR"
   },
   "outputs": [],
   "source": [
    "# Summary statistics of 'rating' variable and provide observations\n",
    "\n",
    "#We convert ratings to numeric in order to study their description\n",
    "df['rating'] = df['rating'].astype(float)"
   ]
  },
  {
   "cell_type": "code",
   "execution_count": 21,
   "metadata": {
    "colab": {
     "base_uri": "https://localhost:8080/",
     "height": 394
    },
    "id": "gABwuBJCZ37U",
    "outputId": "7992a3d7-c223-43a8-9991-3fb2af6f92d4"
   },
   "outputs": [
    {
     "data": {
      "text/html": [
       "<div>\n",
       "<style scoped>\n",
       "    .dataframe tbody tr th:only-of-type {\n",
       "        vertical-align: middle;\n",
       "    }\n",
       "\n",
       "    .dataframe tbody tr th {\n",
       "        vertical-align: top;\n",
       "    }\n",
       "\n",
       "    .dataframe thead th {\n",
       "        text-align: right;\n",
       "    }\n",
       "</style>\n",
       "<table border=\"1\" class=\"dataframe\">\n",
       "  <thead>\n",
       "    <tr style=\"text-align: right;\">\n",
       "      <th></th>\n",
       "      <th>user_id</th>\n",
       "      <th>prod_id</th>\n",
       "      <th>rating</th>\n",
       "    </tr>\n",
       "  </thead>\n",
       "  <tbody>\n",
       "    <tr>\n",
       "      <th>count</th>\n",
       "      <td>125871</td>\n",
       "      <td>125871</td>\n",
       "      <td>125871.000000</td>\n",
       "    </tr>\n",
       "    <tr>\n",
       "      <th>unique</th>\n",
       "      <td>1540</td>\n",
       "      <td>48190</td>\n",
       "      <td>NaN</td>\n",
       "    </tr>\n",
       "    <tr>\n",
       "      <th>top</th>\n",
       "      <td>A5JLAU2ARJ0BO</td>\n",
       "      <td>B0088CJT4U</td>\n",
       "      <td>NaN</td>\n",
       "    </tr>\n",
       "    <tr>\n",
       "      <th>freq</th>\n",
       "      <td>520</td>\n",
       "      <td>206</td>\n",
       "      <td>NaN</td>\n",
       "    </tr>\n",
       "    <tr>\n",
       "      <th>mean</th>\n",
       "      <td>NaN</td>\n",
       "      <td>NaN</td>\n",
       "      <td>4.261339</td>\n",
       "    </tr>\n",
       "    <tr>\n",
       "      <th>std</th>\n",
       "      <td>NaN</td>\n",
       "      <td>NaN</td>\n",
       "      <td>1.062144</td>\n",
       "    </tr>\n",
       "    <tr>\n",
       "      <th>min</th>\n",
       "      <td>NaN</td>\n",
       "      <td>NaN</td>\n",
       "      <td>1.000000</td>\n",
       "    </tr>\n",
       "    <tr>\n",
       "      <th>25%</th>\n",
       "      <td>NaN</td>\n",
       "      <td>NaN</td>\n",
       "      <td>4.000000</td>\n",
       "    </tr>\n",
       "    <tr>\n",
       "      <th>50%</th>\n",
       "      <td>NaN</td>\n",
       "      <td>NaN</td>\n",
       "      <td>5.000000</td>\n",
       "    </tr>\n",
       "    <tr>\n",
       "      <th>75%</th>\n",
       "      <td>NaN</td>\n",
       "      <td>NaN</td>\n",
       "      <td>5.000000</td>\n",
       "    </tr>\n",
       "    <tr>\n",
       "      <th>max</th>\n",
       "      <td>NaN</td>\n",
       "      <td>NaN</td>\n",
       "      <td>5.000000</td>\n",
       "    </tr>\n",
       "  </tbody>\n",
       "</table>\n",
       "</div>"
      ],
      "text/plain": [
       "              user_id     prod_id         rating\n",
       "count          125871      125871  125871.000000\n",
       "unique           1540       48190            NaN\n",
       "top     A5JLAU2ARJ0BO  B0088CJT4U            NaN\n",
       "freq              520         206            NaN\n",
       "mean              NaN         NaN       4.261339\n",
       "std               NaN         NaN       1.062144\n",
       "min               NaN         NaN       1.000000\n",
       "25%               NaN         NaN       4.000000\n",
       "50%               NaN         NaN       5.000000\n",
       "75%               NaN         NaN       5.000000\n",
       "max               NaN         NaN       5.000000"
      ]
     },
     "execution_count": 21,
     "metadata": {},
     "output_type": "execute_result"
    }
   ],
   "source": [
    "#We study in general summary statistics\n",
    "df.describe(include = 'all')"
   ]
  },
  {
   "cell_type": "markdown",
   "metadata": {
    "id": "VqW50EIJxhXc"
   },
   "source": [
    "**Write your observations here:** We can see that in average the rating is 4.26 and most of the ratings are 5"
   ]
  },
  {
   "cell_type": "markdown",
   "metadata": {
    "id": "ywyFrZIf5JtR"
   },
   "source": [
    "### **Checking the rating distribution**"
   ]
  },
  {
   "cell_type": "code",
   "execution_count": 22,
   "metadata": {
    "colab": {
     "base_uri": "https://localhost:8080/",
     "height": 466
    },
    "id": "QbqhbEVe-sVH",
    "outputId": "8a75ca31-911d-45c3-c0c3-2e57613d407c"
   },
   "outputs": [
    {
     "data": {
      "text/plain": [
       "<Axes: xlabel='rating', ylabel='count'>"
      ]
     },
     "execution_count": 22,
     "metadata": {},
     "output_type": "execute_result"
    },
    {
     "data": {
      "image/png": "[encoded data removed]",
      "text/plain": [
       "<Figure size 640x480 with 1 Axes>"
      ]
     },
     "metadata": {},
     "output_type": "display_data"
    }
   ],
   "source": [
    "# Create the bar plot and provide observations\n",
    "sns.countplot(df, x = 'rating')"
   ]
  },
  {
   "cell_type": "markdown",
   "metadata": {
    "id": "t0jONrQv-sVH"
   },
   "source": [
    "**Write your observations here:** As we saw previously most ratings are 5, and also we see a right skewed distribution."
   ]
  },
  {
   "cell_type": "markdown",
   "metadata": {
    "id": "HefpLdLJxhXd"
   },
   "source": [
    "### **Checking the number of unique users and items in the dataset**"
   ]
  },
  {
   "cell_type": "code",
   "execution_count": 23,
   "metadata": {
    "colab": {
     "base_uri": "https://localhost:8080/",
     "height": 175
    },
    "id": "NbSom7195JtR",
    "outputId": "875f6337-6767-4676-dcf0-6d545c82393b"
   },
   "outputs": [
    {
     "data": {
      "text/html": [
       "<div>\n",
       "<style scoped>\n",
       "    .dataframe tbody tr th:only-of-type {\n",
       "        vertical-align: middle;\n",
       "    }\n",
       "\n",
       "    .dataframe tbody tr th {\n",
       "        vertical-align: top;\n",
       "    }\n",
       "\n",
       "    .dataframe thead th {\n",
       "        text-align: right;\n",
       "    }\n",
       "</style>\n",
       "<table border=\"1\" class=\"dataframe\">\n",
       "  <thead>\n",
       "    <tr style=\"text-align: right;\">\n",
       "      <th></th>\n",
       "      <th>user_id</th>\n",
       "      <th>prod_id</th>\n",
       "    </tr>\n",
       "  </thead>\n",
       "  <tbody>\n",
       "    <tr>\n",
       "      <th>count</th>\n",
       "      <td>125871</td>\n",
       "      <td>125871</td>\n",
       "    </tr>\n",
       "    <tr>\n",
       "      <th>unique</th>\n",
       "      <td>1540</td>\n",
       "      <td>48190</td>\n",
       "    </tr>\n",
       "    <tr>\n",
       "      <th>top</th>\n",
       "      <td>A5JLAU2ARJ0BO</td>\n",
       "      <td>B0088CJT4U</td>\n",
       "    </tr>\n",
       "    <tr>\n",
       "      <th>freq</th>\n",
       "      <td>520</td>\n",
       "      <td>206</td>\n",
       "    </tr>\n",
       "  </tbody>\n",
       "</table>\n",
       "</div>"
      ],
      "text/plain": [
       "              user_id     prod_id\n",
       "count          125871      125871\n",
       "unique           1540       48190\n",
       "top     A5JLAU2ARJ0BO  B0088CJT4U\n",
       "freq              520         206"
      ]
     },
     "execution_count": 23,
     "metadata": {},
     "output_type": "execute_result"
    }
   ],
   "source": [
    "# Number of total rows in the data and number of unique user id and product id in the data\n",
    "df.describe(include = 'object')"
   ]
  },
  {
   "cell_type": "markdown",
   "metadata": {
    "id": "Qwgz6CUt-sVI"
   },
   "source": [
    "**Write your observations here:** There are 125871 rows in which there are 1540 unique user id and 48190 unique product id"
   ]
  },
  {
   "cell_type": "markdown",
   "metadata": {
    "id": "RfDnhSS4-sVI"
   },
   "source": [
    "### **Users with the most number of ratings**"
   ]
  },
  {
   "cell_type": "code",
   "execution_count": 24,
   "metadata": {
    "colab": {
     "base_uri": "https://localhost:8080/",
     "height": 429
    },
    "id": "n7MX452q5JtR",
    "outputId": "9099a021-bd2c-4fe3-a033-a635c7255a1a"
   },
   "outputs": [
    {
     "data": {
      "text/plain": [
       "user_id\n",
       "A5JLAU2ARJ0BO     520\n",
       "ADLVFFE4VBT8      501\n",
       "A3OXHLG6DIBRW8    498\n",
       "A6FIAB28IS79      431\n",
       "A680RUE1FDO8B     406\n",
       "A1ODOGXEYECQQ8    380\n",
       "A36K2N527TXXJN    314\n",
       "A2AY4YUOX2N1BQ    311\n",
       "AWPODHOB4GFWL     308\n",
       "ARBKYIVNYWK3C     296\n",
       "Name: count, dtype: int64"
      ]
     },
     "execution_count": 24,
     "metadata": {},
     "output_type": "execute_result"
    }
   ],
   "source": [
    "# Top 10 users based on the number of ratings\n",
    "df['user_id'].value_counts().nlargest(10)"
   ]
  },
  {
   "cell_type": "markdown",
   "metadata": {
    "id": "1X2w_jt9-sVI"
   },
   "source": [
    "**Write your observations here:** We can see that 10th user has 296 ratings and the user with more rating has 520"
   ]
  },
  {
   "cell_type": "markdown",
   "metadata": {
    "id": "EnYTx-Ol-sVg"
   },
   "source": [
    "**Now that we have explored and prepared the data, let's build the first recommendation system.**"
   ]
  },
  {
   "cell_type": "markdown",
   "metadata": {
    "id": "6xYGrGVy5JtS"
   },
   "source": [
    "## **Model 1: Rank Based Recommendation System**"
   ]
  },
  {
   "cell_type": "code",
   "execution_count": 25,
   "metadata": {
    "colab": {
     "base_uri": "https://localhost:8080/",
     "height": 211
    },
    "id": "yxZTj1UPxhXh",
    "outputId": "86169177-a3ee-4d0b-c40b-a4b4af33fe27",
    "scrolled": true
   },
   "outputs": [
    {
     "data": {
      "text/html": [
       "<div>\n",
       "<style scoped>\n",
       "    .dataframe tbody tr th:only-of-type {\n",
       "        vertical-align: middle;\n",
       "    }\n",
       "\n",
       "    .dataframe tbody tr th {\n",
       "        vertical-align: top;\n",
       "    }\n",
       "\n",
       "    .dataframe thead th {\n",
       "        text-align: right;\n",
       "    }\n",
       "</style>\n",
       "<table border=\"1\" class=\"dataframe\">\n",
       "  <thead>\n",
       "    <tr style=\"text-align: right;\">\n",
       "      <th></th>\n",
       "      <th>average_rating</th>\n",
       "      <th>count_product</th>\n",
       "    </tr>\n",
       "    <tr>\n",
       "      <th>prod_id</th>\n",
       "      <th></th>\n",
       "      <th></th>\n",
       "    </tr>\n",
       "  </thead>\n",
       "  <tbody>\n",
       "    <tr>\n",
       "      <th>0594451647</th>\n",
       "      <td>5.0</td>\n",
       "      <td>1</td>\n",
       "    </tr>\n",
       "    <tr>\n",
       "      <th>B003RRY9RS</th>\n",
       "      <td>5.0</td>\n",
       "      <td>1</td>\n",
       "    </tr>\n",
       "    <tr>\n",
       "      <th>B003RR95Q8</th>\n",
       "      <td>5.0</td>\n",
       "      <td>1</td>\n",
       "    </tr>\n",
       "    <tr>\n",
       "      <th>B003RIPMZU</th>\n",
       "      <td>5.0</td>\n",
       "      <td>1</td>\n",
       "    </tr>\n",
       "    <tr>\n",
       "      <th>B003RFRNYQ</th>\n",
       "      <td>5.0</td>\n",
       "      <td>2</td>\n",
       "    </tr>\n",
       "  </tbody>\n",
       "</table>\n",
       "</div>"
      ],
      "text/plain": [
       "            average_rating  count_product\n",
       "prod_id                                  \n",
       "0594451647             5.0              1\n",
       "B003RRY9RS             5.0              1\n",
       "B003RR95Q8             5.0              1\n",
       "B003RIPMZU             5.0              1\n",
       "B003RFRNYQ             5.0              2"
      ]
     },
     "execution_count": 25,
     "metadata": {},
     "output_type": "execute_result"
    }
   ],
   "source": [
    "# Calculate the average rating for each product\n",
    "average_rating = df.groupby(['prod_id'])['rating'].mean()\n",
    "\n",
    "# Calculate the count of ratings for each product\n",
    "\n",
    "count_product = df.groupby(['prod_id'])['rating'].count()\n",
    "\n",
    "# Create a dataframe with calculated average and count of ratings\n",
    "\n",
    "average_rating_product = pd.DataFrame({'average_rating': average_rating, 'count_product': count_product})\n",
    "\n",
    "# Sort the dataframe by average of ratings in the descending order\n",
    "\n",
    "average_rating_product = average_rating_product.sort_values('average_rating', ascending = False)\n",
    "\n",
    "# See the first five records of the \"final_rating\" dataset\n",
    "\n",
    "average_rating_product.head(5)\n"
   ]
  },
  {
   "cell_type": "code",
   "execution_count": 26,
   "metadata": {
    "id": "zKU__5s1xhXi"
   },
   "outputs": [],
   "source": [
    "# Defining a function to get the top n products based on the highest average rating and minimum interactions\n",
    "def top_n_products(df, n, min_interaction):\n",
    "\n",
    "\n",
    "    # Finding products with minimum number of interactions\n",
    "    df = df[df['count_product'] >= min_interaction]\n",
    "\n",
    "    # Sorting values with respect to average rating\n",
    "    df.sort_values('average_rating', ascending = False)\n",
    "\n",
    "    #return top n products\n",
    "    return df.index[:n].to_list()\n",
    "\n"
   ]
  },
  {
   "cell_type": "markdown",
   "metadata": {
    "id": "F8l6373PxhXi"
   },
   "source": [
    "### **Recommending top 5 products with 50 minimum interactions based on popularity**"
   ]
  },
  {
   "cell_type": "code",
   "execution_count": 27,
   "metadata": {
    "colab": {
     "base_uri": "https://localhost:8080/"
    },
    "id": "dBxdLiM_xhXi",
    "outputId": "dee5e3ff-7c57-4e75-c6b0-65ebc1db283a"
   },
   "outputs": [
    {
     "data": {
      "text/plain": [
       "['B001TH7GUU', 'B003ES5ZUU', 'B0019EHU8G', 'B006W8U2MU', 'B000QUUFRW']"
      ]
     },
     "execution_count": 27,
     "metadata": {},
     "output_type": "execute_result"
    }
   ],
   "source": [
    "# Recommending top 5 with 50 minimum interaction\n",
    "top_n_products(average_rating_product, 5, 50)"
   ]
  },
  {
   "cell_type": "markdown",
   "metadata": {
    "id": "l9_xW_UMxhXj"
   },
   "source": [
    "### **Recommending top 5 products with 100 minimum interactions based on popularity**"
   ]
  },
  {
   "cell_type": "code",
   "execution_count": 28,
   "metadata": {
    "colab": {
     "base_uri": "https://localhost:8080/"
    },
    "id": "dZgGZCUoxhXj",
    "outputId": "66545a2a-8236-458f-b445-dbabc5c3d849"
   },
   "outputs": [
    {
     "data": {
      "text/plain": [
       "['B003ES5ZUU', 'B000N99BBC', 'B002WE6D44', 'B007WTAJTO', 'B002V88HFE']"
      ]
     },
     "execution_count": 28,
     "metadata": {},
     "output_type": "execute_result"
    }
   ],
   "source": [
    "# Recommending top 5 with 100 minimum interaction\n",
    "top_n_products(average_rating_product, 5, 100)"
   ]
  },
  {
   "cell_type": "markdown",
   "metadata": {
    "id": "BL-m68a15JtT",
    "outputId": "69132b0f-8d3f-4798-f6a0-249e17a3c822"
   },
   "source": [
    "We have recommended the **top 5** products by using the popularity recommendation system. Now, let's build a recommendation system using **collaborative filtering.**"
   ]
  },
  {
   "cell_type": "markdown",
   "metadata": {
    "id": "sJI5kiiGvOOK"
   },
   "source": [
    "## **Model 2: Collaborative Filtering Recommendation System**"
   ]
  },
  {
   "cell_type": "markdown",
   "metadata": {
    "id": "skzc0N1_nVNB"
   },
   "source": [
    "### **Building a baseline user-user similarity based recommendation system**"
   ]
  },
  {
   "cell_type": "markdown",
   "metadata": {
    "id": "d4Uo_MYMnVNB"
   },
   "source": [
    "- Below, we are building **similarity-based recommendation systems** using `cosine` similarity and using **KNN to find similar users** which are the nearest neighbor to the given user.  \n",
    "- We will be using a new library, called `surprise`, to build the remaining models. Let's first import the necessary classes and functions from this library."
   ]
  },
  {
   "cell_type": "code",
   "execution_count": 29,
   "metadata": {
    "id": "UJ1wEylUpexj"
   },
   "outputs": [],
   "source": [
    "# To compute the accuracy of models\n",
    "from surprise import accuracy\n",
    "\n",
    "# Class is used to parse a file containing ratings, data should be in structure - user ; item ; rating\n",
    "from surprise.reader import Reader\n",
    "\n",
    "# Class for loading datasets\n",
    "from surprise.dataset import Dataset\n",
    "\n",
    "# For tuning model hyperparameters\n",
    "from surprise.model_selection import GridSearchCV\n",
    "\n",
    "# For splitting the rating data in train and test datasets\n",
    "from surprise.model_selection import train_test_split\n",
    "\n",
    "# For implementing similarity-based recommendation system\n",
    "from surprise.prediction_algorithms.knns import KNNBasic\n",
    "\n",
    "# For implementing matrix factorization based recommendation system\n",
    "from surprise.prediction_algorithms.matrix_factorization import SVD\n",
    "\n",
    "# for implementing K-Fold cross-validation\n",
    "from surprise.model_selection import KFold\n",
    "\n",
    "# For implementing clustering-based recommendation system\n",
    "from surprise import CoClustering\n"
   ]
  },
  {
   "cell_type": "markdown",
   "metadata": {
    "id": "54MqVAtDTsnl"
   },
   "source": [
    "**Before building the recommendation systems, let's  go over some basic terminologies we are going to use:**"
   ]
  },
  {
   "cell_type": "markdown",
   "metadata": {
    "id": "Qsxb3xhnTsnl"
   },
   "source": [
    "**Relevant item:** An item (product in this case) that is actually **rated higher than the threshold rating** is relevant, if the **actual rating is below the threshold then it is a non-relevant item**.  \n",
    "\n",
    "**Recommended item:** An item that's **predicted rating is higher than the threshold is a recommended item**, if the **predicted rating is below the threshold then that product will not be recommended to the user**.  \n"
   ]
  },
  {
   "cell_type": "markdown",
   "metadata": {
    "id": "moyLUHCuTsnl"
   },
   "source": [
    "**False Negative (FN):** It is the **frequency of relevant items that are not recommended to the user**. If the relevant items are not recommended to the user, then the user might not buy the product/item. This would result in the **loss of opportunity for the service provider**, which they would like to minimize.\n",
    "\n",
    "**False Positive (FP):** It is the **frequency of recommended items that are actually not relevant**. In this case, the recommendation system is not doing a good job of finding and recommending the relevant items to the user. This would result in **loss of resources for the service provider**, which they would also like to minimize."
   ]
  },
  {
   "cell_type": "markdown",
   "metadata": {
    "id": "Yuvc2VaZTsnl"
   },
   "source": [
    "**Recall:** It is the **fraction of actually relevant items that are recommended to the user**, i.e., if out of 10 relevant products, 6 are recommended to the user then recall is 0.60. Higher the value of recall better is the model. It is one of the metrics to do the performance assessment of classification models.\n",
    "\n",
    "**Precision:** It is the **fraction of recommended items that are relevant actually**, i.e., if out of 10 recommended items, 6 are found relevant by the user then precision is 0.60. The higher the value of precision better is the model. It is one of the metrics to do the performance assessment of classification models."
   ]
  },
  {
   "cell_type": "markdown",
   "metadata": {
    "id": "8NLc36Y8Tsnm"
   },
   "source": [
    "**While making a recommendation system, it becomes customary to look at the performance of the model. In terms of how many recommendations are relevant and vice-versa, below are some most used performance metrics used in the assessment of recommendation systems.**"
   ]
  },
  {
   "cell_type": "markdown",
   "metadata": {
    "id": "cqF8fRBqTsnm"
   },
   "source": [
    "### **Precision@k, Recall@ k, and F1-score@k**"
   ]
  },
  {
   "cell_type": "markdown",
   "metadata": {
    "id": "imMJNF0HTsnm"
   },
   "source": [
    "**Precision@k** - It is the **fraction of recommended items that are relevant in `top k` predictions**. The value of k is the number of recommendations to be provided to the user. One can choose a variable number of recommendations to be given to a unique user.  \n",
    "\n",
    "\n",
    "**Recall@k** - It is the **fraction of relevant items that are recommended to the user in `top k` predictions**.\n",
    "\n",
    "**F1-score@k** - It is the **harmonic mean of Precision@k and Recall@k**. When **precision@k and recall@k both seem to be important** then it is useful to use this metric because it is representative of both of them."
   ]
  },
  {
   "cell_type": "markdown",
   "metadata": {
    "id": "jBW4BUhWTsnm"
   },
   "source": [
    "### **Some useful functions**"
   ]
  },
  {
   "cell_type": "markdown",
   "metadata": {
    "id": "QOBHKh0eTsnm"
   },
   "source": [
    "- Below function takes the **recommendation model** as input and gives the **precision@k, recall@k, and F1-score@k** for that model.  \n",
    "- To compute **precision and recall**, **top k** predictions are taken under consideration for each user.\n",
    "- We will use the precision and recall to compute the F1-score."
   ]
  },
  {
   "cell_type": "code",
   "execution_count": 30,
   "metadata": {
    "id": "Rxn-GahOTsnm"
   },
   "outputs": [],
   "source": [
    "def precision_recall_at_k(model, k = 10, threshold = 3.5):\n",
    "    \"\"\"Return precision and recall at k metrics for each user\"\"\"\n",
    "\n",
    "    # First map the predictions to each user\n",
    "    user_est_true = defaultdict(list)\n",
    "\n",
    "    # Making predictions on the test data\n",
    "    predictions = model.test(testset)\n",
    "\n",
    "    for uid, _, true_r, est, _ in predictions:\n",
    "        user_est_true[uid].append((est, true_r))\n",
    "\n",
    "    precisions = dict()\n",
    "    recalls = dict()\n",
    "    for uid, user_ratings in user_est_true.items():\n",
    "\n",
    "        # Sort user ratings by estimated value\n",
    "        user_ratings.sort(key = lambda x: x[0], reverse = True)\n",
    "\n",
    "        # Number of relevant items\n",
    "        n_rel = sum((true_r >= threshold) for (_, true_r) in user_ratings)\n",
    "\n",
    "        # Number of recommended items in top k\n",
    "        n_rec_k = sum((est >= threshold) for (est, _) in user_ratings[:k])\n",
    "\n",
    "        # Number of relevant and recommended items in top k\n",
    "        n_rel_and_rec_k = sum(((true_r >= threshold) and (est >= threshold))\n",
    "                              for (est, true_r) in user_ratings[:k])\n",
    "\n",
    "        # Precision@K: Proportion of recommended items that are relevant\n",
    "        # When n_rec_k is 0, Precision is undefined. Therefore, we are setting Precision to 0 when n_rec_k is 0\n",
    "\n",
    "        precisions[uid] = n_rel_and_rec_k / n_rec_k if n_rec_k != 0 else 0\n",
    "\n",
    "        # Recall@K: Proportion of relevant items that are recommended\n",
    "        # When n_rel is 0, Recall is undefined. Therefore, we are setting Recall to 0 when n_rel is 0\n",
    "\n",
    "        recalls[uid] = n_rel_and_rec_k / n_rel if n_rel != 0 else 0\n",
    "\n",
    "    # Mean of all the predicted precisions are calculated.\n",
    "    precision = round((sum(prec for prec in precisions.values()) / len(precisions)), 3)\n",
    "\n",
    "    # Mean of all the predicted recalls are calculated.\n",
    "    recall = round((sum(rec for rec in recalls.values()) / len(recalls)), 3)\n",
    "\n",
    "    accuracy.rmse(predictions)\n",
    "\n",
    "    print('Precision: ', precision) # Command to print the overall precision\n",
    "\n",
    "    print('Recall: ', recall) # Command to print the overall recall\n",
    "\n",
    "    print('F_1 score: ', round((2*precision*recall)/(precision+recall), 3)) # Formula to compute the F-1 score"
   ]
  },
  {
   "cell_type": "markdown",
   "metadata": {
    "id": "_ZmsamDVyek-"
   },
   "source": [
    "**Hints:**\n",
    "\n",
    "- To compute **precision and recall**, a **threshold of 3.5 and k value of 10 can be considered for the recommended and relevant ratings**.\n",
    "- Think about the performance metric to choose."
   ]
  },
  {
   "cell_type": "markdown",
   "metadata": {
    "id": "8hxjJMTwnVNB"
   },
   "source": [
    "Below we are loading the **`rating` dataset**, which is a **pandas DataFrame**, into a **different format called `surprise.dataset.DatasetAutoFolds`**, which is required by this library. To do this, we will be **using the classes `Reader` and `Dataset`.**"
   ]
  },
  {
   "cell_type": "code",
   "execution_count": 31,
   "metadata": {
    "colab": {
     "base_uri": "https://localhost:8080/",
     "height": 211
    },
    "id": "rGfYDiOCpe4X",
    "outputId": "a6e733a7-7bb4-4a4d-89c0-a10ccef7c398"
   },
   "outputs": [],
   "source": [
    "# Instantiating Reader scale with expected rating scale\n",
    "reader = Reader(rating_scale = (0, 5))\n",
    "# Loading the rating dataset\n",
    "data = Dataset.load_from_df(df[['user_id', 'prod_id', 'rating']], reader)\n",
    "# Splitting the data into train and test datasets\n",
    "trainset, testset = train_test_split(data, test_size = 0.2, random_state = 42)"
   ]
  },
  {
   "cell_type": "markdown",
   "metadata": {
    "id": "DmHTEt7TnVNC"
   },
   "source": [
    "Now, we are **ready to build the first baseline similarity-based recommendation system** using the cosine similarity."
   ]
  },
  {
   "cell_type": "markdown",
   "metadata": {
    "id": "SVDfVHB4tQfU"
   },
   "source": [
    "### **Building the user-user Similarity-based Recommendation System**"
   ]
  },
  {
   "cell_type": "code",
   "execution_count": 32,
   "metadata": {
    "colab": {
     "base_uri": "https://localhost:8080/"
    },
    "id": "vO3FL7iape8A",
    "outputId": "ed362267-531a-4d59-e396-74b5d3fcc28a"
   },
   "outputs": [
    {
     "name": "stdout",
     "output_type": "stream",
     "text": [
      "RMSE: 1.1067\n",
      "Precision:  0.847\n",
      "Recall:  0.718\n",
      "F_1 score:  0.777\n"
     ]
    }
   ],
   "source": [
    "# Declaring the similarity options\n",
    "sim_dict = {'name': 'cosine', 'user_based': True }\n",
    "\n",
    "# Initialize the KNNBasic model using sim_options declared, Verbose = False, and setting random_state = 1\n",
    "sim_model_user = KNNBasic(sim_options = sim_dict, verbose = False, random_state = 1)\n",
    "\n",
    "# Fit the model on the training data\n",
    "sim_model_user.fit(trainset)\n",
    "\n",
    "# Let us compute precision@k, recall@k, and f_1 score using the precision_recall_at_k function defined above\n",
    "precision_recall_at_k(sim_model_user)"
   ]
  },
  {
   "cell_type": "markdown",
   "metadata": {
    "id": "nEuJK_A9Tsnn"
   },
   "source": [
    "**Write your observations here:**\n",
    "- We obtain Precision of 0.847 which indicates from the relevant products 84% are recommended.\n",
    "- We obtain a recall of 0.718 which indicates that out of all recommendations 71% are relevant.\n",
    "- A F_1 Score of 0.777 which can use to compare with others models"
   ]
  },
  {
   "cell_type": "markdown",
   "metadata": {
    "id": "reFD0-nsnVNC"
   },
   "source": [
    "Let's now **predict rating for a user with `userId=A3LDPF5FMB782Z` and `productId=1400501466`** as shown below. Here the user has already interacted or watched the product with productId '1400501466' and given a rating of 5."
   ]
  },
  {
   "cell_type": "code",
   "execution_count": 33,
   "metadata": {
    "colab": {
     "base_uri": "https://localhost:8080/"
    },
    "id": "Sxd23bZ9pe_x",
    "outputId": "ff5fa287-7fa4-4239-9817-d42e6a53238d"
   },
   "outputs": [
    {
     "name": "stdout",
     "output_type": "stream",
     "text": [
      "user: A3LDPF5FMB782Z item: 1400501466 r_ui = 5.00   est = 3.33   {'actual_k': 6, 'was_impossible': False}\n"
     ]
    },
    {
     "data": {
      "text/plain": [
       "Prediction(uid='A3LDPF5FMB782Z', iid='1400501466', r_ui=5, est=3.3333333333333335, details={'actual_k': 6, 'was_impossible': False})"
      ]
     },
     "execution_count": 33,
     "metadata": {},
     "output_type": "execute_result"
    }
   ],
   "source": [
    "# Predicting rating for a sample user with an interacted product\n",
    "sim_model_user.predict(\"A3LDPF5FMB782Z\", \"1400501466\", r_ui = 5, verbose = True)\n"
   ]
  },
  {
   "cell_type": "markdown",
   "metadata": {
    "id": "ENJcqG_wemRH"
   },
   "source": [
    "**Write your observations here:** Based on user similarity that example shows the difference of 1.67 between real rating and estimated rating (5 and 3.33)"
   ]
  },
  {
   "cell_type": "markdown",
   "metadata": {
    "id": "cj6ecbglTsno"
   },
   "source": [
    "Below is the **list of users who have not seen the product with product id \"1400501466\"**."
   ]
  },
  {
   "cell_type": "code",
   "execution_count": 34,
   "metadata": {
    "colab": {
     "base_uri": "https://localhost:8080/"
    },
    "id": "xCRBMD-RTsno",
    "outputId": "960d554d-a033-42e5-f581-af3c7f4c5f9b"
   },
   "outputs": [
    {
     "data": {
      "text/plain": [
       "['A3BY5KCNQZXV5U',\n",
       " 'AT09WGFUM934H',\n",
       " 'A32HSNCNPRUMTR',\n",
       " 'A17HMM1M7T9PJ1',\n",
       " 'A3CLWR1UUZT6TG',\n",
       " 'A3TAS1AG6FMBQW',\n",
       " 'A2Y4H3PXB07WQI',\n",
       " 'A25RTRAPQAJBDJ',\n",
       " 'A3LDPF5FMB782Z',\n",
       " 'A18S2VGUH9SCV5',\n",
       " 'A1K4G5YJDJQI6Q',\n",
       " 'A1PPS91NLI7KEH',\n",
       " 'A2ZR3YTMEEIIZ4',\n",
       " 'A5JLAU2ARJ0BO',\n",
       " 'A1P4XD7IORSEFN',\n",
       " 'A341HCMGNZCBIT',\n",
       " 'A3HPCRD9RX351S',\n",
       " 'A20UU20K7M9ZPF',\n",
       " 'A1DQHS7MOVYYYA',\n",
       " 'ALUNVOQRXOZIA',\n",
       " 'A19N3S7CBSU6O7',\n",
       " 'A3G7BEJJCPD6DS',\n",
       " 'A2JXS1JII6SAUD',\n",
       " 'A2JOPUWVV0XQJ3',\n",
       " 'A3PD8JD9L4WEII',\n",
       " 'ABVYGB2TKBO8F',\n",
       " 'A1NAA1R38JSNHV',\n",
       " 'A1U5IJHJK84S54',\n",
       " 'A30X750M8V1XXW',\n",
       " 'A3QQGPI3CTV9SX',\n",
       " 'A2JWF9IG8PJAOA',\n",
       " 'A1ZU55TM45Y2R8',\n",
       " 'A1VQHH85U7PX0',\n",
       " 'A5A4374R8I7NB',\n",
       " 'A10X9ME6R66JDX',\n",
       " 'A14I1F2H7NOYDC',\n",
       " 'A328GLDSDNFYII',\n",
       " 'AAEVGE52KL0DJ',\n",
       " 'A36K2N527TXXJN',\n",
       " 'ADLVFFE4VBT8',\n",
       " 'A3OZA8HNJM26DC',\n",
       " 'A19HT7YC1UW3D6',\n",
       " 'A16HXVNPU5TCGE',\n",
       " 'A250AXLRBVYKB4',\n",
       " 'A1C82BC5GNABOA',\n",
       " 'A1VHCO8RQFIGQJ',\n",
       " 'A2Z9S2RQD542CP',\n",
       " 'A2QIC4G483SQQA',\n",
       " 'A3L6L5O89JTX2T',\n",
       " 'A1OGCPMSIVK7G4',\n",
       " 'A18HE80910BTZI',\n",
       " 'A3F9CBHV4OHFBS',\n",
       " 'A2WXURU33RBGQS',\n",
       " 'A1D27BCSYV7VWH',\n",
       " 'A2IXK5LB4Y0NYV',\n",
       " 'A3EX8ZFNVDHGPM',\n",
       " 'A274MXTX3DYLUV',\n",
       " 'A1KY5G5FP31F2F',\n",
       " 'A2AEZQ3DGBBLPR',\n",
       " 'A2HDTOF8222KN3',\n",
       " 'A2R6RA8FRBS608',\n",
       " 'A26KXNN6H1IL0I',\n",
       " 'AVSMRPI23DQI2',\n",
       " 'A2NX6MFZP8TM6S',\n",
       " 'ADOR3TR7GDF68',\n",
       " 'A680RUE1FDO8B',\n",
       " 'A11D1KHM7DVOQK',\n",
       " 'A8X8D4BUY5DFU',\n",
       " 'A3CG93783LP0FO',\n",
       " 'A2SATO5BNKWY3Y',\n",
       " 'A2ZY49IDE6TY5I',\n",
       " 'A1N3EH28S4DI8L',\n",
       " 'AEJAGHLC675A7',\n",
       " 'A1T1YSCDW0PD25',\n",
       " 'A11ED8O95W2103',\n",
       " 'A3NCIN6TNL0MGA',\n",
       " 'ASHJAZC9OA9NS',\n",
       " 'ARXU3FESTWMJJ',\n",
       " 'ATDE9JYCPI0L1',\n",
       " 'AZ515FFZ7I2P7',\n",
       " 'A6FIAB28IS79',\n",
       " 'A1X3DA7C61WZLQ',\n",
       " 'A1RPTVW5VEOSI',\n",
       " 'A3NEAETOSXDBOM',\n",
       " 'A7Y6AVS576M03',\n",
       " 'AQ3IN3MRXQ5KH',\n",
       " 'A2HMF8ZR67BNZS',\n",
       " 'AZMY6E8B52L2T',\n",
       " 'AFXTKAO0CB354',\n",
       " 'A1PAGHECG401K1',\n",
       " 'AFNG8O2DXRCUV',\n",
       " 'AWPODHOB4GFWL',\n",
       " 'A2TN0U8173HM7A',\n",
       " 'ASCBJEPXTOU0V',\n",
       " 'A2BYV7S1QP2YIG',\n",
       " 'A3BI8BKIHESDNQ',\n",
       " 'A2QAOP52OEB5EV',\n",
       " 'AKT8TGIT6VVZ5',\n",
       " 'A2NYK9KWFMJV4Y',\n",
       " 'A2DF62DP20RIXF',\n",
       " 'A19HKRB4LU5YR',\n",
       " 'A2HXEJXEQQTM1D',\n",
       " 'A2NB2E5DXE319Z',\n",
       " 'A87N6UTYA6NOB',\n",
       " 'AK9BXHEXOOM6Z',\n",
       " 'A1MQQEM7W77L62',\n",
       " 'A231WM2Z2JL0U3',\n",
       " 'A2B7BUH8834Y6M',\n",
       " 'A14JBDSWKPKTZA',\n",
       " 'AEZJTA4KDIWY8',\n",
       " 'A3QNX5KWHDV0GD',\n",
       " 'A1J75JJ0Q2OEJN',\n",
       " 'A105TOJ6LTVMBG',\n",
       " 'A3QX0ERX4D03TF',\n",
       " 'A13WREJ05GMRA6',\n",
       " 'A3N8O68DOEQ2FE',\n",
       " 'A3J8A5L5AF5TX9',\n",
       " 'A2HRHF83I3NDGT',\n",
       " 'A2TKWMX4563NR6',\n",
       " 'A1TQBAHI3M4ZBQ',\n",
       " 'A38QEATH3NODFM',\n",
       " 'AQ55H30MZSV0Q',\n",
       " 'A3MV1KKHX51FYT',\n",
       " 'A3A15L96IYUO6V',\n",
       " 'A3NHUQ33CFH3VM',\n",
       " 'A1GBT4UN2RW7XY',\n",
       " 'A2V1J3JT5OOZFO',\n",
       " 'A3REK3OFONWB1Q',\n",
       " 'A1MJMYLRTZ76ZX',\n",
       " 'A32JCI4AK2JTTG',\n",
       " 'A2HPJKM7L4EOQB',\n",
       " 'A1KD8NJPZ01R37',\n",
       " 'A1V3TRGWOMA8LC',\n",
       " 'A1F1A0QQP2XVH5',\n",
       " 'AT2J7H5TRZM8Z',\n",
       " 'A9ELHLPXF7JKD',\n",
       " 'A335QXPTV1RIV1',\n",
       " 'A1EH2S92FHWZRP',\n",
       " 'A2KIJBT9HRIOM8',\n",
       " 'AZBXKUH4AIW3X',\n",
       " 'A3NVZTGPORNPRW',\n",
       " 'A3EQQHWJ1EEYEU',\n",
       " 'A11P105WVK5240',\n",
       " 'A19XMHRB3G4DIR',\n",
       " 'A2KZOIOFXXMC1H',\n",
       " 'A149RNR5RH19YY',\n",
       " 'A28621TSIR5EOG',\n",
       " 'AMZCZBK1EF1PV',\n",
       " 'A1IU7S4HCK1XK0',\n",
       " 'A13BX9O5UDBILC',\n",
       " 'A2THQCHKR89E16',\n",
       " 'A209G57KXCBF4C',\n",
       " 'A2X8KN82L07RSK',\n",
       " 'A1R3GN9MEJFXM3',\n",
       " 'A3963R7EPE3A7E',\n",
       " 'AAW7X3GRD8GY9',\n",
       " 'A3V8P0O224OBDB',\n",
       " 'AY6A8KPYCE6B0',\n",
       " 'A212MDP6K4VJS5',\n",
       " 'A28X0LT2100RL1',\n",
       " 'A1NZLRAZJGD99W',\n",
       " 'A1522TN5FVJL0Y',\n",
       " 'A3UXW18DP4WSD6',\n",
       " 'A2I5LVVQ7WXEH6',\n",
       " 'A1F9Z42CFF9IAY',\n",
       " 'A31BD4RXCON7QO',\n",
       " 'A1435P5AMCPB3X',\n",
       " 'A2K5RRMPICZ606',\n",
       " 'AFQBS241UKPAZ',\n",
       " 'A29GWIJL72GXXZ',\n",
       " 'A7EJERNB7IK3Z',\n",
       " 'A2YHXGPCTENZY3',\n",
       " 'A3KTWUXXB8KKC7',\n",
       " 'A3D5B2CBFNJB0K',\n",
       " 'AEL6CQNQXONBX',\n",
       " 'A3OXHLG6DIBRW8',\n",
       " 'A1BC62X6HZJGZR',\n",
       " 'A39K52QDP4C3ZS',\n",
       " 'A3LQUEB84IR3VO',\n",
       " 'A1ILWPH1GHUXE2',\n",
       " 'A3JAH5WW61N2EK',\n",
       " 'A1PSVZBM894R5H',\n",
       " 'A3F3B6HY9RJI04',\n",
       " 'A4GGT6O0GQNV2',\n",
       " 'A2IFGGXG3YV3Y6',\n",
       " 'A1U5NWJOYH2QQH',\n",
       " 'A12DLJESJKM1OQ',\n",
       " 'AT28RL25Q2OLK',\n",
       " 'ANTGGAQYPSWHF',\n",
       " 'A12LH2100CKQO',\n",
       " 'A3CW0ZLUO5X2B1',\n",
       " 'A3TBMGNSEQBWIL',\n",
       " 'A22CW0ZHY3NJH8',\n",
       " 'AZAC8O310IK4E',\n",
       " 'A3VZH0PWLQ9BB1',\n",
       " 'A16C19G0I2DE8S',\n",
       " 'A2WDCAMKCCP1UR',\n",
       " 'A33CNFK776MTWR',\n",
       " 'A21VM9WVF8EOSJ',\n",
       " 'A95PWI4S6WHGL',\n",
       " 'A1OO9N1MRNQ7K0',\n",
       " 'AOVTLYTHVDNUX',\n",
       " 'A3VONQL7YW8UPM',\n",
       " 'A2V7EO331SFUF6',\n",
       " 'A3977M5S0GIG5H',\n",
       " 'A2QI2NTDTMK2FV',\n",
       " 'A3PCEB9ND82AGE',\n",
       " 'A3EXWV8FNSSFL6',\n",
       " 'A1P3DDFL423B3C',\n",
       " 'A3W4D8XOGLWUN5',\n",
       " 'A57Q87B0TC9IJ',\n",
       " 'A2RGWCT6K2C3EZ',\n",
       " 'A3LWC833HQIG7J',\n",
       " 'A38RMU1Y5TDP9',\n",
       " 'A3D822N1K2IAQD',\n",
       " 'A33775AIB1A664',\n",
       " 'A3PGVJF37JSHFO',\n",
       " 'A2WJ5XSE4I9F55',\n",
       " 'A1V5TRJXTI6F01',\n",
       " 'ATOKT8QYK967L',\n",
       " 'ANRS196NKFVUU',\n",
       " 'A3639Z6O5JBLIZ',\n",
       " 'A3ER6ARJ23CIN8',\n",
       " 'A33152QEGO2MZN',\n",
       " 'A3HRDRQ5VAFPQS',\n",
       " 'AUCIFMWP3DU8R',\n",
       " 'ALHC64J88LVWO',\n",
       " 'A2PC9ZZIFV31B1',\n",
       " 'A54S9CIUV5VNB',\n",
       " 'A1XE3M22N91451',\n",
       " 'A313H6238N589',\n",
       " 'A3SDJ70H00OQCJ',\n",
       " 'A2WB7LZ595CR50',\n",
       " 'A356RFKNIG043B',\n",
       " 'AW6A4PPENVZY3',\n",
       " 'A32LX4XJ2LU740',\n",
       " 'A2RWHTNM5P3I8Y',\n",
       " 'A3077MQTAKOVFZ',\n",
       " 'A1FF2PLA84KNAE',\n",
       " 'A3B20R4ZAH0Y2Y',\n",
       " 'ARTA78TP6H73D',\n",
       " 'A2CL818RN52NWN',\n",
       " 'AA91O96C1Z18W',\n",
       " 'A3Q1J68QY1MZQ9',\n",
       " 'A2V0I904FH7ABY',\n",
       " 'A22R9L5DAVYYWR',\n",
       " 'A1QVFHPY8418HC',\n",
       " 'A3V6Z4RCDGRC44',\n",
       " 'A12DQZKRKTNF5E',\n",
       " 'A3TNM3C9ENUCFW',\n",
       " 'A3FKQQTSMHOCE0',\n",
       " 'A3KZEGBTPH6MMF',\n",
       " 'A2JP9E1H0SF392',\n",
       " 'A2U3OEIK1CUPIK',\n",
       " 'A3N0P5AAMP6XD2',\n",
       " 'A13EQE9EY2ET93',\n",
       " 'A1CM4HI4S5P0WO',\n",
       " 'A3775OP5VTX5ON',\n",
       " 'A1B6O7SAIYG2N0',\n",
       " 'A1KDUQ2HU0WD68',\n",
       " 'A3H6NNGCINPLEC',\n",
       " 'A3RGHO0Q938FRS',\n",
       " 'A1LHMSY3Q46PJS',\n",
       " 'A18EA7MNLXP9H5',\n",
       " 'A1B4MIXYVIKMU2',\n",
       " 'A2BMZRO0H7TFCS',\n",
       " 'A2EZTM9WY5B5IL',\n",
       " 'A298GL2D0BHGKZ',\n",
       " 'A34LQ791ACZ0JC',\n",
       " 'A1ZM846Y7AUYD',\n",
       " 'A2IIAQ7VVAHXTD',\n",
       " 'A1U4GOVZWL8ZTL',\n",
       " 'A2MCRCK1V61FWQ',\n",
       " 'A32AFX2PUJ82HG',\n",
       " 'A2BGZ52M908MJY',\n",
       " 'ACH055GTTIGC9',\n",
       " 'AUCISQA1YXX86',\n",
       " 'APQQK1V695AUE',\n",
       " 'A2QI2JHSIQ3SN3',\n",
       " 'A506HOOCVL8GW',\n",
       " 'A3GQY0TFRG0MPZ',\n",
       " 'A54SG05AV6S4H',\n",
       " 'A1URXSRV6WDHVY',\n",
       " 'A1B8EJQU73YGL9',\n",
       " 'A2WLNSZ9U0T1S3',\n",
       " 'A2T3S3VTW65VO5',\n",
       " 'A1V4VVBQBFXRHC',\n",
       " 'AS8C336DDLSO4',\n",
       " 'A23ONMGKEWDG4M',\n",
       " 'A145LBW8ZHF0TW',\n",
       " 'A32QOZWIKQDNZX',\n",
       " 'A3CMO216CWOF5N',\n",
       " 'A2BCDZO1XQLDH',\n",
       " 'AW68KVDV7BBRS',\n",
       " 'A2MOJANFPX353G',\n",
       " 'A3DQWFWINN3V5A',\n",
       " 'AN81JUYW2SL24',\n",
       " 'A2PK64OVZA1U8Z',\n",
       " 'A3LGT6UZL99IW1',\n",
       " 'A11KZ906QD08C5',\n",
       " 'A2AF0NOCM71J0B',\n",
       " 'A2EF8N7ZE7ONWX',\n",
       " 'AE88D7OM7YU99',\n",
       " 'A1CYTBE7LLUQ8F',\n",
       " 'AOEAD7DPLZE53',\n",
       " 'A1TDR7Y90SVCHL',\n",
       " 'A31N0XY2UTB25C',\n",
       " 'A3J2YU2D9BH2J7',\n",
       " 'A4IL0CLL27Q33',\n",
       " 'AAR7CEPXYJA0T',\n",
       " 'A100WO06OQR8BQ',\n",
       " 'A3NGOG8Z78AZSD',\n",
       " 'A1R19YYR5OR26T',\n",
       " 'A2MOD50IHEDH3G',\n",
       " 'AGHZXQL9F94T9',\n",
       " 'AKSFZ4G1AXYFC',\n",
       " 'A203OCQQ12MAVT',\n",
       " 'A10PEXB6XAQ5XF',\n",
       " 'A3L9E0YI7C5G0W',\n",
       " 'ABMF4UC4Z00NT',\n",
       " 'AHIK7BUXFRMT8',\n",
       " 'A23GFTVIETX7DS',\n",
       " 'A3HC7NWLKCPX4X',\n",
       " 'AZOK5STV85FBJ',\n",
       " 'AMKNPIDFLRFMP',\n",
       " 'A2M9ME0N2S3R39',\n",
       " 'A2Y739CRM15WDL',\n",
       " 'AHNHLGKIZ2N3B',\n",
       " 'A3QMJMTLJC34QC',\n",
       " 'A2YRX8J4WM5BRX',\n",
       " 'AYMD77ITD15PT',\n",
       " 'A2RW587355CMVA',\n",
       " 'A2X61KKXXR6WNP',\n",
       " 'A1DO9LRCO23EOM',\n",
       " 'A3QDY9I0CNMD2W',\n",
       " 'A1UNJ46NSB352E',\n",
       " 'AT6CZDCP4TRGA',\n",
       " 'A34UVV757IKPVB',\n",
       " 'A2ED50E3KWKUKW',\n",
       " 'A21NS06GDEA3V0',\n",
       " 'ASJSX783R5HTZ',\n",
       " 'A15XI2BEGGFEOW',\n",
       " 'AZCE11PSTCH1L',\n",
       " 'A6TBR6L2D4XKC',\n",
       " 'A3QU3O79AGNWCY',\n",
       " 'A3DGJMO6VPG6FJ',\n",
       " 'A291XTI6NO7DEG',\n",
       " 'A1NNMOD9H36Q8E',\n",
       " 'AOWF9T81XMX2S',\n",
       " 'A3OA4DV4L81N1D',\n",
       " 'A3T4OHEAHOJ700',\n",
       " 'A2NX6PABLIJLP1',\n",
       " 'A1XK4VP74IB9TQ',\n",
       " 'A6VPK7X53QNAQ',\n",
       " 'A1VJ0V58N0698J',\n",
       " 'A30J7WQV0ZNRXG',\n",
       " 'A141OPVE376YFI',\n",
       " 'APOGXH3A74CM3',\n",
       " 'A1PN2U0AWXGVML',\n",
       " 'A1QRST0A3IQIEF',\n",
       " 'A1OMXVXXP07F05',\n",
       " 'A2NOW4U7W3F7RI',\n",
       " 'A1IBKN1GXYJ3K4',\n",
       " 'A259MPG6SOL02P',\n",
       " 'A1AQ8JT2A3UWMY',\n",
       " 'A11LNPG39A2ZV4',\n",
       " 'A6VXZ1EEPRTLV',\n",
       " 'A1LA4K5JF78BER',\n",
       " 'AJCR7L4AXL2OG',\n",
       " 'A2SKEQT0WTB954',\n",
       " 'ARC5ASW9CUAGP',\n",
       " 'A3AGQAXTX6VRJ3',\n",
       " 'A1R377IPZOKLMM',\n",
       " 'AGEWOMQ90BV8R',\n",
       " 'A3EP26M3QHINXT',\n",
       " 'A1ODOGXEYECQQ8',\n",
       " 'A87CILADRIZW0',\n",
       " 'A3EZEP0FX5BC1P',\n",
       " 'A3GFQHHVMEAIO',\n",
       " 'A1JWSDDIH5Z7DV',\n",
       " 'A2SL5IW096Z2BL',\n",
       " 'AUITG1DJ3QUGK',\n",
       " 'A3TPNC3TKGCCEI',\n",
       " 'A1EXGL6L0QQ0M5',\n",
       " 'A1GNYV0RA0EQSS',\n",
       " 'A1SDPA1J98UP4L',\n",
       " 'AD8DLOGHAXL',\n",
       " 'A200RY2ELZL2Q3',\n",
       " 'A25HBO5V8S8SEA',\n",
       " 'A1TR1R2QKWRSRA',\n",
       " 'A1EKSETIBS9ETQ',\n",
       " 'A2TVJ0YDW3QO63',\n",
       " 'A2I18AO597DSDI',\n",
       " 'AGXMC3ITWZASE',\n",
       " 'A3D7BGK0P5QY0X',\n",
       " 'A3HXGSMCIOZEW8',\n",
       " 'A1PL7QILVQV3IF',\n",
       " 'A1R6RKKE44AYA8',\n",
       " 'A2DXENZNO2JT4F',\n",
       " 'A225G2TFM76GYX',\n",
       " 'AO8NH0BV82XIE',\n",
       " 'A27Y4OEC9MD9PA',\n",
       " 'A2NVQZ4Y7Y0J1R',\n",
       " 'AI0BCEWRE04G0',\n",
       " 'A110PC8C5Y7MQD',\n",
       " 'AAQ9NJ480N9W5',\n",
       " 'A19W47CXJJP1MI',\n",
       " 'A1Z7U9K6X3FEOU',\n",
       " 'A1L1N3J6XNABO2',\n",
       " 'A1SX9PHJWTDMF9',\n",
       " 'A35W3JQYP0M655',\n",
       " 'A3TA1UJWRJF9NC',\n",
       " 'A35HUT8MQMT21L',\n",
       " 'A3T7V207KRDE2O',\n",
       " 'A3FS3FJPD3RJTD',\n",
       " 'AN9CP6J4JF91X',\n",
       " 'A365PBEOWM7EI7',\n",
       " 'A3INN916E4VION',\n",
       " 'A3UW23DBF2KHWC',\n",
       " 'A294BKN913UOGP',\n",
       " 'A3D2VIUT2HWP0Z',\n",
       " 'AULFLNWJP1QXY',\n",
       " 'A4WEZJOIZIV4U',\n",
       " 'A1C5WS021EL3WO',\n",
       " 'A17Z0LVY96TO53',\n",
       " 'A2UQK3DAZ8NO2T',\n",
       " 'A5KMMY627T3W',\n",
       " 'A5MCDQ60DWUEV',\n",
       " 'A1HSM98KUGTHNY',\n",
       " 'A1IG1I6MR3HAWA',\n",
       " 'A9Y5O2R4D6EH5',\n",
       " 'AUUV3XDYB16X5',\n",
       " 'AS269J1OGZT1V',\n",
       " 'A1QNYLBG73QRNF',\n",
       " 'AG35JCCQWDRCS',\n",
       " 'A2YW6XOID7GV6G',\n",
       " 'A13WOT3RSXKRD5',\n",
       " 'A2OWR5G2OAQF7C',\n",
       " 'A1FR68QH6Z4YZM',\n",
       " 'AS7J4952JB5XR',\n",
       " 'A1GBU479WXR7UG',\n",
       " 'A1ZXMMQPYC3Z9I',\n",
       " 'A2XQYE6TJYROHQ',\n",
       " 'A1MFVAHTT2BHM0',\n",
       " 'AG6TX1ZJHLMO7',\n",
       " 'A1Y4EWMUTW73GD',\n",
       " 'A1O229NVVDJUX2',\n",
       " 'A15QYHQH80W30L',\n",
       " 'A3E68EBGXTWDNP',\n",
       " 'A33YZNZIRA3H97',\n",
       " 'A3EPJSPH03AS29',\n",
       " 'A2JKM8KF3296CW',\n",
       " 'AYB4ELCS5AM8P',\n",
       " 'AA8RBTN3J2F5H',\n",
       " 'A20H1M28WLI9J2',\n",
       " 'A2UWPPU5GZLMQZ',\n",
       " 'A10Y058K7B96C6',\n",
       " 'A2SPV96SGOEO2',\n",
       " 'A3R1GJY2MY8041',\n",
       " 'ALDAF4VVLFRHP',\n",
       " 'A1NJHKPHD4YWZV',\n",
       " 'A1YVO5V1SO18DZ',\n",
       " 'A74UT8IQCM0I2',\n",
       " 'A30XZK10EZN9V4',\n",
       " 'A26CPEEWB2WKRE',\n",
       " 'A2XX2A4OJCDNLZ',\n",
       " 'AHROSV6WJOEGY',\n",
       " 'A2AY4YUOX2N1BQ',\n",
       " 'AGXV8E7XK9J6H',\n",
       " 'A2HJY7418G1KV1',\n",
       " 'A2DS9DLMSU2M2Z',\n",
       " 'A2J3VCGBNDLAKF',\n",
       " 'A1ZTR0FR5AW9B4',\n",
       " 'A25TNBMJ4ZO7RD',\n",
       " 'A3CFU12GS5CZCN',\n",
       " 'A3D01HLSUFEZQY',\n",
       " 'A2ARDVMUGDFED6',\n",
       " 'A3OYO7B6SS7QLH',\n",
       " 'A1V4A5U5O3TMMD',\n",
       " 'A1UL2JH7XOUGM5',\n",
       " 'A1FDV3WPOHREY9',\n",
       " 'A194Y47BF3CUTJ',\n",
       " 'A26LD9FQHTM8ZH',\n",
       " 'A24HWYHR28JJ7A',\n",
       " 'A3FPSY1M6G7XIB',\n",
       " 'A2J0IBS4PFRO2C',\n",
       " 'A3SX5MZTCZRQLF',\n",
       " 'A3Q4TYJVAM4IRM',\n",
       " 'A3PJJTAKISAFI9',\n",
       " 'A1H98YV5K5BUX0',\n",
       " 'A4UGMKUSX9XHI',\n",
       " 'A3P4T1DKRWTL36',\n",
       " 'AQNSQW4495SG0',\n",
       " 'A21T0D2F7SKG5S',\n",
       " 'A23E9QQHJLNGUI',\n",
       " 'A2GMZZ6TDYOHY7',\n",
       " 'A3TR3KLL5PXSZ8',\n",
       " 'AHF4I1FSIHABC',\n",
       " 'A1RJKTYC03L0JY',\n",
       " 'AIJQU979J6UFY',\n",
       " 'A2LEIANN1UZTHP',\n",
       " 'A3IMALU0RM8UT9',\n",
       " 'A26EQ8U96JA92T',\n",
       " 'A14Z6D3IRJ23F7',\n",
       " 'A2FXBWR4T4OFQ',\n",
       " 'A26877IWJGISYM',\n",
       " 'ACHTDPEQYSEQL',\n",
       " 'A1CPRP3VFJRS1R',\n",
       " 'A2T689YVOAYGGD',\n",
       " 'A20951I210L0IB',\n",
       " 'AD9ZL63H0VKCZ',\n",
       " 'A3G007LQX6KGOD',\n",
       " 'A25C2M3QF9G7OQ',\n",
       " 'A30C8WHQ2CYFO4',\n",
       " 'A2W9GX82SLKROQ',\n",
       " 'A3EZFFPVS34AMO',\n",
       " 'A2PY5ED630H0QJ',\n",
       " 'A3CEUT263RNUDO',\n",
       " 'A5QDZEOIMQ4LW',\n",
       " 'A3S5EXYZDEBF3K',\n",
       " 'A10ZBR6O8S8OCY',\n",
       " 'ATFBVUXDIRXT6',\n",
       " 'AY4EXFOO43C3S',\n",
       " 'A2NYOY6H42SORF',\n",
       " 'A33ZYFE8XMKKR1',\n",
       " 'A1G3DKT38DNZJP',\n",
       " 'AEFTIUQHSVUFX',\n",
       " 'A6KL17KKN0A5L',\n",
       " 'A2XU6J41ZQOJ2V',\n",
       " 'A3N4VTNFPMTHEF',\n",
       " 'A11R5VW7IM6ISQ',\n",
       " 'A3EFSLEMHNPP6A',\n",
       " 'A30UP2KKD5IQEP',\n",
       " 'ARW8VGT10JG60',\n",
       " 'A15J9K7O10A3M6',\n",
       " 'A1D9V11QUHXENQ',\n",
       " 'A2NP9CGUSFP22E',\n",
       " 'A9BWUH9XKZ2DQ',\n",
       " 'A17W0GMB0YY83M',\n",
       " 'A3IOQ7NVVLAUEE',\n",
       " 'A1X1CEGHTHMBL1',\n",
       " 'A3V0YR50F1XSKP',\n",
       " 'A1CMD08Z49PGKQ',\n",
       " 'AN2IZT80ZUNJN',\n",
       " 'A1CMWB7AWQUQH4',\n",
       " 'A2Y3WWPUKIJ59I',\n",
       " 'A198CCH4NNLI2E',\n",
       " 'A11KQADBYE0UZL',\n",
       " 'A3S0DBBR693O06',\n",
       " 'A3R33KMESG0XGQ',\n",
       " 'AG8YP2XTC5X1I',\n",
       " 'A3NXJDNTQK2YJL',\n",
       " 'A2W9I628I6SE1U',\n",
       " 'A1Z3598J0371ND',\n",
       " 'A2NSXY5L42ZUGO',\n",
       " 'A1PM7HH4F77NEH',\n",
       " 'A28LUOEY0ECT9G',\n",
       " 'A3QDMDSANPYGUX',\n",
       " 'A100UD67AHFODS',\n",
       " 'A2WBVO6X3KPMDT',\n",
       " 'AOMEH9W6LHC4S',\n",
       " 'A1OES7R7FDAT2L',\n",
       " 'A1VR1HIOVQWN09',\n",
       " 'AS2II0671KT2C',\n",
       " 'ARBKYIVNYWK3C',\n",
       " 'A215IN14OKAE2T',\n",
       " 'A2OOXVZ6B1VZ9A',\n",
       " 'A3RGJ1FXOB1ZLL',\n",
       " 'AAXAKFQEAQPWC',\n",
       " 'A1PS4OYWUB0VX',\n",
       " 'A1KXJCXS6HFRQZ',\n",
       " 'A22NKFOH9RATRC',\n",
       " 'A22I55P15NSAOX',\n",
       " 'AH3LF9RAD1O2V',\n",
       " 'A3HSDV9Y0TV5Z2',\n",
       " 'AHQRU3MRORIWQ',\n",
       " 'A3LPL35P7FH78Y',\n",
       " 'A2KYRPDKVBI2R4',\n",
       " 'A12ANFNOSMW5VD',\n",
       " 'A377LPVLLAI42D',\n",
       " 'A35SNSDRNE9P8Q',\n",
       " 'AU3GYRAKBUAEU',\n",
       " 'A3TCMJ6GKZJFBQ',\n",
       " 'A2OS3TIVAKUAHG',\n",
       " 'AELK0E5DK7LIZ',\n",
       " 'A3H4S6YO9VNGDZ',\n",
       " 'A3QUDXLOJTKEP9',\n",
       " 'A1H4IVXNXWWBLV',\n",
       " 'A20WUUD9EDWY4N',\n",
       " 'A1REY92IEZJUSX',\n",
       " 'A253IOATGMT2UP',\n",
       " 'ABMN74TBW5UWE',\n",
       " 'A38NELQT98S4H8',\n",
       " 'A1TFDMY4YNTV97',\n",
       " 'A178M2AHNWQZB0',\n",
       " 'A3DWO5RJDA430F',\n",
       " 'A38NHXL5257E3B',\n",
       " 'A19X4BF861LQST',\n",
       " 'A7QMQBGJ2TCQG',\n",
       " 'A2ZRMCRLDSUX6R',\n",
       " 'A2ZFFSJ0VM6KSJ',\n",
       " 'A3JU16JTNLVK1J',\n",
       " 'A204K1OFE8OB9Y',\n",
       " 'A2EMUM49CE0JV4',\n",
       " 'AK3GKIV8DEY8B',\n",
       " 'A15G70V9OBTOVO',\n",
       " 'A2RIL2NXHE00AQ',\n",
       " 'AU627A4UGIW6V',\n",
       " 'A16RL0RMRF974O',\n",
       " 'AR8LWDT6TUKNZ',\n",
       " 'A32T2H8150OJLU',\n",
       " 'AHR86ZEYETLJI',\n",
       " 'AU2UJF4I7KAWL',\n",
       " 'A32482Z7XIKDQX',\n",
       " 'A3DOPYDOS49I3T',\n",
       " 'A1FLJCHN5CG5M5',\n",
       " 'A1FXT4VNDA25LY',\n",
       " 'A1PV5T5S4D5NPI',\n",
       " 'A2YEZ8Z3BW2SKG',\n",
       " 'A3TRY87JJCA5Y8',\n",
       " 'ANXEW7IDYDJEH',\n",
       " 'A1SFPA80X7TRBR',\n",
       " 'AFR9GYKAHM37U',\n",
       " 'AWH2AY17ZU7W2',\n",
       " 'A2ALRZ0ENQLYY5',\n",
       " 'A3PU3EDJ2FG1AW',\n",
       " 'A2Q7OJTVPIO2XH',\n",
       " 'A1VVRA3P6G1TWH',\n",
       " 'A30ADSBTWCORYC',\n",
       " 'A8X478DM3KAWM',\n",
       " 'A376OJHLE6SU9Q',\n",
       " 'AGVWTYW0ULXHT',\n",
       " 'A1ZVFCPHCWFV71',\n",
       " 'AEAFHD09X8044',\n",
       " 'A28RSMADFCBJDT',\n",
       " 'A2TA40MV2H4O6F',\n",
       " 'A1VRANSQ0WF1YS',\n",
       " 'A2XRMQA6PJ5ZJ8',\n",
       " 'A1MFAPVBW9BEGD',\n",
       " 'A2J8T58Z4X15IO',\n",
       " 'A1TQZUSOU22E9M',\n",
       " 'A1XXMNLOLKNO0I',\n",
       " 'A197T2N6RU7K56',\n",
       " 'A3TBMAWIIHKHFN',\n",
       " 'A27H61OHW44XA7',\n",
       " 'A20G074MWH9U7O',\n",
       " 'A33HIV8RXRDM88',\n",
       " 'A2NOIWPJDD7WIQ',\n",
       " 'A2LCE1D0TW2XY0',\n",
       " 'AR6APXLK7TJU2',\n",
       " 'A27T4RQ3XA661C',\n",
       " 'A1143YEAZYMYHJ',\n",
       " 'A2FSOHSM9X13JT',\n",
       " 'A2HBOG4LVIY15L',\n",
       " 'AZ8XSDMIX04VJ',\n",
       " 'A2CWUM49ZWMGEY',\n",
       " 'A3PPO2X5PJE1L9',\n",
       " 'AYOTEJ617O60K',\n",
       " 'A21I62TCDL4754',\n",
       " 'AKBVYIIHWI04B',\n",
       " 'AVBLGXSWRN666',\n",
       " 'A3S0EHEIR52HP1',\n",
       " 'AHD3NZHDUZ5I6',\n",
       " 'A2OKRGHIYTBQ6P',\n",
       " 'A2BUQ240COLAOP',\n",
       " 'A18A5VSD0IPN14',\n",
       " 'A3E9O1VNJ3U324',\n",
       " 'A1VLE2SH9J8WYS',\n",
       " 'A2GYV87WW0DMSN',\n",
       " 'A1VOFY3QFT9WCG',\n",
       " 'A33SX0AD5PYD9B',\n",
       " 'A1E55W6ES0FY17',\n",
       " 'A1F0KPA232MTYC',\n",
       " 'A37CEYB95LK6R6',\n",
       " 'A1YEPFLLH42OU1',\n",
       " 'A1UCAVBNJUZMPR',\n",
       " 'A27AF4DLLOBQDQ',\n",
       " 'A3P1508PZ0UADD',\n",
       " 'A314KKDIJWCNMV',\n",
       " 'A1KWPIORLG2QV',\n",
       " 'AUBEFRFHJR64Y',\n",
       " 'AGOH8N902URMW',\n",
       " 'A2V5M5EJPOD2IU',\n",
       " 'A200DY76VXVGP9',\n",
       " 'AWNJAY0M5UI70',\n",
       " 'A2F7CSE6KT7NI4',\n",
       " 'AXU8RH1DEV21H',\n",
       " 'A16CVJUQOB6GIB',\n",
       " 'A1MFPAM9TTRTXN',\n",
       " 'A18FLOC8YQY0P8',\n",
       " 'A3QAO3QBCQF89T',\n",
       " 'A27M75LRSJ788H',\n",
       " 'AH5BCMZELZSKG',\n",
       " 'A1A5KUIIIHFF4U',\n",
       " 'A64LEAZ2QF8L2',\n",
       " 'AD0J5KK4WQXNS',\n",
       " 'A2ZY3S7SD3QO8Z',\n",
       " 'A1DTCJV6KOMJOA',\n",
       " 'AROQO2VDODT7',\n",
       " 'A16SRDVPBXN69C',\n",
       " 'A2NSMJVQY0RV9S',\n",
       " 'A31ICLWQ9CSHRS',\n",
       " 'A1X2LENOF84LCQ',\n",
       " 'A2NU9H8H5MJZSL',\n",
       " 'AZNUHQSHZHSUE',\n",
       " 'A18GJ9MYYO6GCQ',\n",
       " 'AWJWCKB92RJX2',\n",
       " 'A34VRVI4CSI5RQ',\n",
       " 'A2X06FP2PQ6EK0',\n",
       " 'A1VTCSCH8FFC76',\n",
       " 'A26BDXG9KVH7SU',\n",
       " 'A1AH8033GWKBY7',\n",
       " 'A2D1LPEUCTNT8X',\n",
       " 'A23D13HKTA95WX',\n",
       " 'A3IUW081KXD3PE',\n",
       " 'A11ULAZ4B5ZXC8',\n",
       " 'A23NSKTMSPPBTR',\n",
       " 'A2FRKEXDXDN1KI',\n",
       " 'AO2EURP2Y4JZM',\n",
       " 'A6XDZ1MJ0B1A2',\n",
       " 'A20DDH4NT6Q1E8',\n",
       " 'AYGEKID3G7DPW',\n",
       " 'A12R3YGEHW7D8G',\n",
       " 'AWZR0O65DL2Q',\n",
       " 'AG0PM9IAHQ06C',\n",
       " 'A22S7D0LP8GRDH',\n",
       " 'A9J4UURM4OSDW',\n",
       " 'ACSX5AIZE3MJ9',\n",
       " 'ADHA1W879JNT0',\n",
       " 'A3NOBH42C7UI5M',\n",
       " 'A22MANL4US4RMY',\n",
       " 'A19FRW264WZTGP',\n",
       " 'A3CJ7MHAS9IMAM',\n",
       " 'A3FEJ8H2VTN0OJ',\n",
       " 'ATNOI7E8GTIVE',\n",
       " 'AMUP8DYE7EAN2',\n",
       " 'A2Y29IRSI08F0I',\n",
       " 'A196JN53PG0C7R',\n",
       " 'A2L4W1M5YU5QX3',\n",
       " 'AV10H5K6VPQIJ',\n",
       " 'A27GITTN6AVW5I',\n",
       " 'A2UEB48LAWFUCW',\n",
       " 'A1VUN4JU731CBH',\n",
       " 'A2NXRD80LWHUOP',\n",
       " 'A25FL6VLD7S23S',\n",
       " 'A3E3EQ39FZTZEK',\n",
       " 'A1QOK9LU90ACF7',\n",
       " 'A32O5FZH994CNY',\n",
       " 'A7FDGFK0KN7QG',\n",
       " 'A3G5MOHY1U635N',\n",
       " 'A2WPL6Y08K6ZQH',\n",
       " 'ANYC38I00IRVK',\n",
       " 'AGFSSC5DBY2HU',\n",
       " 'A2X3L31KCXBHCL',\n",
       " 'A3SP7T2PZ3HSDE',\n",
       " 'A9DYWY9VOSP1P',\n",
       " 'A2S26YGSVXBCFL',\n",
       " 'A233TZONT1OGR0',\n",
       " 'A3FFZQKCA7UOYY',\n",
       " 'AONUCJBC85BL',\n",
       " 'A2ZGDHLJ85T6AD',\n",
       " 'A3IY316DRNF5F2',\n",
       " 'ARX7Z3NI6O0F7',\n",
       " 'A38KK0SZYEH5UD',\n",
       " 'ATS2855497V0I',\n",
       " 'A1XB7JGJ459ERP',\n",
       " 'A3FEGTOLCWXSV4',\n",
       " 'A3QNQQKJTL76H0',\n",
       " 'A1SHHQSPOWR00F',\n",
       " 'A35HNL2VEDK9Z1',\n",
       " 'A2Q204DY2L7YRP',\n",
       " 'A1RPJHUVVSI98A',\n",
       " 'A2LXX47A0KMJVX',\n",
       " 'AC6Z7DP1Z5GHD',\n",
       " 'A324X7RVDAV3FT',\n",
       " 'A3O5ASFUXC32UA',\n",
       " 'A2VODABWSVHV8E',\n",
       " 'ACYZXQ2JKPZKT',\n",
       " 'A2SYAQXJGRY3XE',\n",
       " 'A2294LS59GC5K7',\n",
       " 'A296QED1MV1V0J',\n",
       " 'A1WG97A0EFHYXN',\n",
       " 'A2ROZACRW31PC2',\n",
       " 'A2XA8CW5DF4MNZ',\n",
       " 'A33GNK4YENACDJ',\n",
       " 'A2DIQTZPF26T1L',\n",
       " 'ABDR6IJ93HFIO',\n",
       " 'A1F5O1USOUOOXI',\n",
       " 'ALNE7Q71JFC0F',\n",
       " 'A1Q5P5ML3176C0',\n",
       " 'AY3XPKRAMKKY7',\n",
       " 'A2D1ZQEFS1NBH2',\n",
       " 'A10O7THJ2O20AG',\n",
       " 'A5Q1FK0FWU7DH',\n",
       " 'A96JD9312DHWC',\n",
       " 'ADKGE078JK8K7',\n",
       " 'A2RG1B0K8YBJ4A',\n",
       " 'A10ZFE6YE0UHW8',\n",
       " 'A1ZPUEHF4AES86',\n",
       " 'A27QXQQOLAMRRR',\n",
       " 'A35X2JJI49OBZP',\n",
       " 'A2XJMQ2COPGWJH',\n",
       " 'AR1T36GLLAFFX',\n",
       " 'A2RU4U1JZ3DMP5',\n",
       " 'A34CKIMZ969UW7',\n",
       " 'A2WCFDOCS73PNB',\n",
       " 'A21Q9JVG4SII51',\n",
       " 'ACQYIC13JXAOI',\n",
       " 'A37PV5GMP2ILJC',\n",
       " 'A2F92M62KN324B',\n",
       " 'A23R3EOZ837242',\n",
       " 'A2ER8G4JJJ7XER',\n",
       " 'A2C8I2RQ0WG940',\n",
       " 'A2XPK6XCL0UH1S',\n",
       " 'A1VLVWTLV3LVHR',\n",
       " 'A27B1U3OWCU14J',\n",
       " 'A2FWZ58M6IQMD7',\n",
       " 'A4H4KYSM2KQ85',\n",
       " 'A1BT6TL7UCIC5Y',\n",
       " 'AOJA1LC8PN7K1',\n",
       " 'A2XXBZPQT5EXHV',\n",
       " 'A8WEXFRWX1ZHH',\n",
       " 'A1Z4GII5CHCDG7',\n",
       " 'A17RFKCYS69M3Y',\n",
       " 'A2J7FHZFKOKGZ6',\n",
       " 'A1MZL91Z44RN06',\n",
       " 'AI2AOCTC8BQVZ',\n",
       " 'A3L1VJMHFWONCB',\n",
       " 'A2BLFCOPSMBOZ9',\n",
       " 'A15TABNGK6L4N3',\n",
       " 'A2PJH18W4XHTZW',\n",
       " 'A370XYLIZCSK1Y',\n",
       " 'A1BJOHHLG0D965',\n",
       " 'A38Z6QG6988WS7',\n",
       " 'AAK6SOEJY30YG',\n",
       " 'A1QQA7Y92L4F9R',\n",
       " 'ARIDN94LOCQFD',\n",
       " 'A3NKRH3TJ4DPVI',\n",
       " 'A39137LW12KK7B',\n",
       " 'A1S7BFT0HDF3HA',\n",
       " 'A2SH7OWE8QJYNC',\n",
       " 'ABAPF3XY1W6JX',\n",
       " 'A1MCH5RXDOH87H',\n",
       " 'A37D1ZP8GBHE38',\n",
       " 'A3DL29NLZ7SXXG',\n",
       " 'ALRCAGJOJ9583',\n",
       " 'A2ZRG5NOFZ47RK',\n",
       " 'A1ZCSSCAGBCD49',\n",
       " 'A25WJCAP606YMP',\n",
       " 'A3J3ZHGDUDPCFL',\n",
       " 'AL1XV4L25FZ2S',\n",
       " 'AI8EMB0HUC6Z5',\n",
       " 'A3VI2VETB90ZG5',\n",
       " 'AMFXXAOVV4CPJ',\n",
       " 'A1MRPX3RM48T2I',\n",
       " 'A32AK8FOAZEPE2',\n",
       " 'AKX9EQ37PAYMY',\n",
       " 'A1VS1LL905P5L5',\n",
       " 'ABH9D1TEOJ56E',\n",
       " 'A1CST2WUA32GP0',\n",
       " 'A1Y85GQ09Y95JL',\n",
       " 'A2BIJMB2BITQUM',\n",
       " 'A1JZFGZEZVWQPY',\n",
       " 'A3VL4RXCWNSR3H',\n",
       " 'AOQLV2LSI9B2W',\n",
       " 'A2UTZ4O5E2W4DK',\n",
       " 'AGYH5U11ZKPFB',\n",
       " 'A1G5MI2KREPEIB',\n",
       " 'A1GQRGB8FGSLIZ',\n",
       " 'AEWYUPCNDV7HY',\n",
       " 'A18YMFFJW974QS',\n",
       " 'A2JRDFIGWTX50J',\n",
       " 'A2VIYTWXANL343',\n",
       " 'A3RR2P5IS3DGPR',\n",
       " 'A3F8T3BRXRX5P3',\n",
       " 'A3V15SFD7918WZ',\n",
       " 'A213J54E63SYOP',\n",
       " 'A15J71JLC29KPW',\n",
       " 'A2ME89MSWVG9NF',\n",
       " 'A3S3VSXEFXBMRC',\n",
       " 'AFFVUZEGP1FDQ',\n",
       " 'A11EYMH9UV9XG7',\n",
       " 'AWSK1ZAEU1KFL',\n",
       " 'A3LSEIG2PIJYBL',\n",
       " 'AG7EF0SVBQOUX',\n",
       " 'A18NDN2CIG2TKR',\n",
       " 'A2HXE29CU1I24Y',\n",
       " 'A3VVMIMMTYQV5F',\n",
       " 'A2UOHALGF2X77Q',\n",
       " 'A21GW4L8FO307V',\n",
       " 'AFM7FK7NFEKFZ',\n",
       " 'A1LAGS8H4A2DR7',\n",
       " 'A3MU9G6YWKTGTA',\n",
       " 'A36IHC0K68NS2',\n",
       " 'ABQWMANK4AR63',\n",
       " 'AQM0K7MBBT4AY',\n",
       " 'A1AWL9JASMG904',\n",
       " 'A30JPZ9TZ7I61U',\n",
       " 'A2AC6GQ24S45GA',\n",
       " 'A16QODENBJVUI1',\n",
       " 'A31HE83MU98GBV',\n",
       " 'A3Q6ZPW60CVF2L',\n",
       " 'A3SL0HA6422W4M',\n",
       " 'ANW6EGY12V5XS',\n",
       " 'A19RGDJPNZ7NZ',\n",
       " 'A20DZX38KRBIT8',\n",
       " 'A11IXJ8M1JO296',\n",
       " 'A1NMM0RDRF6R84',\n",
       " 'A31RZMVAFMLB8B',\n",
       " 'A3BACUOZV1M0WM',\n",
       " 'A2NJQF2UI60VGT',\n",
       " 'A2GKMXRLI7KLFP',\n",
       " 'A11EXFO14WEJM1',\n",
       " 'A3IJ4Z18FTIIP',\n",
       " 'A2LF07KCXDR70D',\n",
       " 'APBB297H3ZA5E',\n",
       " 'AIBRTGBN07D6A',\n",
       " 'A3RMEU4GNP60BM',\n",
       " 'A5CDMTW6JKV5G',\n",
       " 'A1SB9BNNGKNX2Z',\n",
       " 'A3AYSYSLHU26U9',\n",
       " 'ARX0KOX5Q01BJ',\n",
       " 'A37IRE9GZ0CZ7I',\n",
       " 'A35A2RWUMC737N',\n",
       " 'AB094YABX21WQ',\n",
       " 'A2PL06HW6KZH2',\n",
       " 'AGILRZOT49R0V',\n",
       " 'APMYPD97EHUUZ',\n",
       " 'A2PICNZWHEINQC',\n",
       " 'A10NMELR4KX0J6',\n",
       " 'A2I357I10ZY7CI',\n",
       " 'A2SNE4QQGVP13U',\n",
       " 'A1IU4UAV9QIJAI',\n",
       " 'A3CJOB7CHOSZUG',\n",
       " 'A3KCETSIJNOK56',\n",
       " 'A1QLQCJVGCQPP0',\n",
       " 'AL42PIIG5DXYD',\n",
       " 'A3JNBO7H2SPL44',\n",
       " 'A8CKH8XB33XGN',\n",
       " 'A3V5F050GVZ56Q',\n",
       " 'A2RGA7UGAN3UL7',\n",
       " 'A3QRR8PSCBI07C',\n",
       " 'A2ZDY0V4Q1SZD7',\n",
       " 'A1EOTB1WHLSW6G',\n",
       " 'A185O1MX1RP964',\n",
       " 'A23ZXHFLC6TBLD',\n",
       " 'A1B0NL8UWAELI7',\n",
       " 'A24P4E3RJ6AX94',\n",
       " 'A1WJ3P43SZUNDM',\n",
       " 'A2L42QEWR77PKZ',\n",
       " 'A3SRDVCD2ATIIS',\n",
       " 'A3NYBI5VMVEEIK',\n",
       " 'A3U6J0DLLDEWM2',\n",
       " 'A2QDOJFFLFGF18',\n",
       " 'A2BX8DDQGCCG2J',\n",
       " 'ACJT8MUC0LRF0',\n",
       " 'A1NGFGBX2VCQS8',\n",
       " 'A3KNGMX2RVQG91',\n",
       " 'A1BZIM4WGZ6DZP',\n",
       " 'AV9PIER7NE448',\n",
       " 'A3IRA0BHI9NE9U',\n",
       " 'AFM2J3HJNPIHV',\n",
       " 'A2HKUM9OEBQKDW',\n",
       " 'A2AX2UGB167J31',\n",
       " 'ASF3J4UYV34KA',\n",
       " 'A307Y3LMCVEZS1',\n",
       " 'A2YYHSORXIHZCS',\n",
       " 'A38CHSS1ZAE51B',\n",
       " 'A23WPWLYT3P1CZ',\n",
       " 'A3O1FVLUD9X1XC',\n",
       " 'A2VH0UT5EQFB6P',\n",
       " 'A2N3JSOIQ6ZNFL',\n",
       " 'A3JU990UTN5RQP',\n",
       " 'A2PB325LKXYDOL',\n",
       " 'ABE5E8B3J7MKY',\n",
       " 'A19EKT8H85AKO5',\n",
       " 'A1H7Y5XKPGT0OS',\n",
       " 'A1UEL5C1N6E5SE',\n",
       " 'A17NVM7IAPF2NS',\n",
       " 'A1HFT68GJ42LTM',\n",
       " 'A3D6OI36USYOU1',\n",
       " 'AG2YXYIQ8TLTA',\n",
       " 'A3GVXKCTFN3YDN',\n",
       " 'A2MIP3AQVSF2SS',\n",
       " 'ACY9QYNDFLVBI',\n",
       " 'A2LLSFQO8O8XNW',\n",
       " 'A2CPP7BZKOF9TP',\n",
       " 'A3A4ZAIBQWKOZS',\n",
       " 'A2L36AGL8CKY3D',\n",
       " 'A24J2Y1O22JYZX',\n",
       " 'ABUE0ALHKWKHC',\n",
       " 'AQR4HPVSOPS08',\n",
       " 'AUK79PXTAOJP9',\n",
       " 'A16WP8NTPYB0ZM',\n",
       " 'A1MEISNED4NP7U',\n",
       " 'A2ZFBTGPDP6PH6',\n",
       " 'A24ARANWS5E3T8',\n",
       " 'A2EW01G2LNJN06',\n",
       " 'A1AKW788238PWQ',\n",
       " 'A17BUUBOU0598B',\n",
       " ...]"
      ]
     },
     "execution_count": 34,
     "metadata": {},
     "output_type": "execute_result"
    }
   ],
   "source": [
    "# Find unique user_id where prod_id is not equal to \"1400501466\"\n",
    "list(df[df['prod_id'] != '1400501466']['user_id'].unique())"
   ]
  },
  {
   "cell_type": "markdown",
   "metadata": {
    "id": "KT42ecaSTsno"
   },
   "source": [
    "* It can be observed from the above list that **user \"A34BZM6S9L7QI4\" has not seen the product with productId \"1400501466\"** as this userId is a part of the above list."
   ]
  },
  {
   "cell_type": "markdown",
   "metadata": {
    "id": "EXSgq8OEnVNE"
   },
   "source": [
    "**Below we are predicting rating for `userId=A34BZM6S9L7QI4` and `prod_id=1400501466`.**"
   ]
  },
  {
   "cell_type": "code",
   "execution_count": 35,
   "metadata": {
    "colab": {
     "base_uri": "https://localhost:8080/"
    },
    "id": "PbFcBj1PpfEV",
    "outputId": "ba416ab9-39de-4876-c7e0-ffe6b315cccf"
   },
   "outputs": [
    {
     "name": "stdout",
     "output_type": "stream",
     "text": [
      "user: A34BZM6S9L7QI4 item: 1400501466 r_ui = None   est = 3.00   {'actual_k': 1, 'was_impossible': False}\n"
     ]
    },
    {
     "data": {
      "text/plain": [
       "Prediction(uid='A34BZM6S9L7QI4', iid='1400501466', r_ui=None, est=3.0, details={'actual_k': 1, 'was_impossible': False})"
      ]
     },
     "execution_count": 35,
     "metadata": {},
     "output_type": "execute_result"
    }
   ],
   "source": [
    "# Predicting rating for a sample user with a non interacted product\n",
    "sim_model_user.predict(\"A34BZM6S9L7QI4\", \"1400501466\", verbose = True)\n"
   ]
  },
  {
   "cell_type": "markdown",
   "metadata": {
    "id": "02rwld8yemRI"
   },
   "source": [
    "**Write your observations here:** The rating estimated is 3 for a user who has never bought that product"
   ]
  },
  {
   "cell_type": "markdown",
   "metadata": {
    "id": "ejjof6csnVNF"
   },
   "source": [
    "### **Improving similarity-based recommendation system by tuning its hyperparameters**"
   ]
  },
  {
   "cell_type": "markdown",
   "metadata": {
    "id": "p2j4VvfQnVNF"
   },
   "source": [
    "Below, we will be tuning hyperparameters for the `KNNBasic` algorithm. Let's try to understand some of the hyperparameters of the KNNBasic algorithm:\n",
    "\n",
    "- **k** (int) – The (max) number of neighbors to take into account for aggregation. Default is 40.\n",
    "- **min_k** (int) – The minimum number of neighbors to take into account for aggregation. If there are not enough neighbors, the prediction is set to the global mean of all ratings. Default is 1.\n",
    "- **sim_options** (dict) – A dictionary of options for the similarity measure. And there are four similarity measures available in surprise -\n",
    "    - cosine\n",
    "    - msd (default)\n",
    "    - Pearson\n",
    "    - Pearson baseline"
   ]
  },
  {
   "cell_type": "code",
   "execution_count": 36,
   "metadata": {
    "colab": {
     "base_uri": "https://localhost:8080/"
    },
    "id": "9LmPbSUSTsnp",
    "outputId": "9c72f8f0-9479-4fd3-e51a-2e6ffbd06160"
   },
   "outputs": [
    {
     "name": "stdout",
     "output_type": "stream",
     "text": [
      "Computing the msd similarity matrix...\n",
      "Done computing similarity matrix.\n",
      "Computing the msd similarity matrix...\n",
      "Done computing similarity matrix.\n",
      "Computing the msd similarity matrix...\n",
      "Done computing similarity matrix.\n",
      "Computing the cosine similarity matrix...\n",
      "Done computing similarity matrix.\n",
      "Computing the cosine similarity matrix...\n",
      "Done computing similarity matrix.\n",
      "Computing the cosine similarity matrix...\n",
      "Done computing similarity matrix.\n",
      "Computing the pearson similarity matrix...\n",
      "Done computing similarity matrix.\n",
      "Computing the pearson similarity matrix...\n",
      "Done computing similarity matrix.\n",
      "Computing the pearson similarity matrix...\n",
      "Done computing similarity matrix.\n",
      "Computing the msd similarity matrix...\n",
      "Done computing similarity matrix.\n",
      "Computing the msd similarity matrix...\n",
      "Done computing similarity matrix.\n",
      "Computing the msd similarity matrix...\n",
      "Done computing similarity matrix.\n",
      "Computing the cosine similarity matrix...\n",
      "Done computing similarity matrix.\n",
      "Computing the cosine similarity matrix...\n",
      "Done computing similarity matrix.\n",
      "Computing the cosine similarity matrix...\n",
      "Done computing similarity matrix.\n",
      "Computing the pearson similarity matrix...\n",
      "Done computing similarity matrix.\n",
      "Computing the pearson similarity matrix...\n",
      "Done computing similarity matrix.\n",
      "Computing the pearson similarity matrix...\n",
      "Done computing similarity matrix.\n",
      "Computing the msd similarity matrix...\n",
      "Done computing similarity matrix.\n",
      "Computing the msd similarity matrix...\n",
      "Done computing similarity matrix.\n",
      "Computing the msd similarity matrix...\n",
      "Done computing similarity matrix.\n",
      "Computing the cosine similarity matrix...\n",
      "Done computing similarity matrix.\n",
      "Computing the cosine similarity matrix...\n",
      "Done computing similarity matrix.\n",
      "Computing the cosine similarity matrix...\n",
      "Done computing similarity matrix.\n",
      "Computing the pearson similarity matrix...\n",
      "Done computing similarity matrix.\n",
      "Computing the pearson similarity matrix...\n",
      "Done computing similarity matrix.\n",
      "Computing the pearson similarity matrix...\n",
      "Done computing similarity matrix.\n",
      "Computing the msd similarity matrix...\n",
      "Done computing similarity matrix.\n",
      "Computing the msd similarity matrix...\n",
      "Done computing similarity matrix.\n",
      "Computing the msd similarity matrix...\n",
      "Done computing similarity matrix.\n",
      "Computing the cosine similarity matrix...\n",
      "Done computing similarity matrix.\n",
      "Computing the cosine similarity matrix...\n",
      "Done computing similarity matrix.\n",
      "Computing the cosine similarity matrix...\n",
      "Done computing similarity matrix.\n",
      "Computing the pearson similarity matrix...\n",
      "Done computing similarity matrix.\n",
      "Computing the pearson similarity matrix...\n",
      "Done computing similarity matrix.\n",
      "Computing the pearson similarity matrix...\n",
      "Done computing similarity matrix.\n",
      "Computing the msd similarity matrix...\n",
      "Done computing similarity matrix.\n",
      "Computing the msd similarity matrix...\n",
      "Done computing similarity matrix.\n",
      "Computing the msd similarity matrix...\n",
      "Done computing similarity matrix.\n",
      "Computing the cosine similarity matrix...\n",
      "Done computing similarity matrix.\n",
      "Computing the cosine similarity matrix...\n",
      "Done computing similarity matrix.\n",
      "Computing the cosine similarity matrix...\n",
      "Done computing similarity matrix.\n",
      "Computing the pearson similarity matrix...\n",
      "Done computing similarity matrix.\n",
      "Computing the pearson similarity matrix...\n",
      "Done computing similarity matrix.\n",
      "Computing the pearson similarity matrix...\n",
      "Done computing similarity matrix.\n",
      "Computing the msd similarity matrix...\n",
      "Done computing similarity matrix.\n",
      "Computing the msd similarity matrix...\n",
      "Done computing similarity matrix.\n",
      "Computing the msd similarity matrix...\n",
      "Done computing similarity matrix.\n",
      "Computing the cosine similarity matrix...\n",
      "Done computing similarity matrix.\n",
      "Computing the cosine similarity matrix...\n",
      "Done computing similarity matrix.\n",
      "Computing the cosine similarity matrix...\n",
      "Done computing similarity matrix.\n",
      "Computing the pearson similarity matrix...\n",
      "Done computing similarity matrix.\n",
      "Computing the pearson similarity matrix...\n",
      "Done computing similarity matrix.\n",
      "Computing the pearson similarity matrix...\n",
      "Done computing similarity matrix.\n",
      "Computing the msd similarity matrix...\n",
      "Done computing similarity matrix.\n",
      "Computing the msd similarity matrix...\n",
      "Done computing similarity matrix.\n",
      "Computing the msd similarity matrix...\n",
      "Done computing similarity matrix.\n",
      "Computing the cosine similarity matrix...\n",
      "Done computing similarity matrix.\n",
      "Computing the cosine similarity matrix...\n",
      "Done computing similarity matrix.\n",
      "Computing the cosine similarity matrix...\n",
      "Done computing similarity matrix.\n",
      "Computing the pearson similarity matrix...\n",
      "Done computing similarity matrix.\n",
      "Computing the pearson similarity matrix...\n",
      "Done computing similarity matrix.\n",
      "Computing the pearson similarity matrix...\n",
      "Done computing similarity matrix.\n",
      "Computing the msd similarity matrix...\n",
      "Done computing similarity matrix.\n",
      "Computing the msd similarity matrix...\n",
      "Done computing similarity matrix.\n",
      "Computing the msd similarity matrix...\n",
      "Done computing similarity matrix.\n",
      "Computing the cosine similarity matrix...\n",
      "Done computing similarity matrix.\n",
      "Computing the cosine similarity matrix...\n",
      "Done computing similarity matrix.\n",
      "Computing the cosine similarity matrix...\n",
      "Done computing similarity matrix.\n",
      "Computing the pearson similarity matrix...\n",
      "Done computing similarity matrix.\n",
      "Computing the pearson similarity matrix...\n",
      "Done computing similarity matrix.\n",
      "Computing the pearson similarity matrix...\n",
      "Done computing similarity matrix.\n",
      "Computing the msd similarity matrix...\n",
      "Done computing similarity matrix.\n",
      "Computing the msd similarity matrix...\n",
      "Done computing similarity matrix.\n",
      "Computing the msd similarity matrix...\n",
      "Done computing similarity matrix.\n",
      "Computing the cosine similarity matrix...\n",
      "Done computing similarity matrix.\n",
      "Computing the cosine similarity matrix...\n",
      "Done computing similarity matrix.\n",
      "Computing the cosine similarity matrix...\n",
      "Done computing similarity matrix.\n",
      "Computing the pearson similarity matrix...\n",
      "Done computing similarity matrix.\n",
      "Computing the pearson similarity matrix...\n",
      "Done computing similarity matrix.\n",
      "Computing the pearson similarity matrix...\n",
      "Done computing similarity matrix.\n",
      "1.0519880639295411\n",
      "{'k': 50, 'min_k': 4, 'sim_options': {'name': 'cosine', 'user_based': True}}\n"
     ]
    }
   ],
   "source": [
    "# Setting up parameter grid to tune the hyperparameters\n",
    "param_grid = {'k': [30, 40, 50], 'min_k': [2, 4, 16],\n",
    "              'sim_options': {'name': ['msd', 'cosine', 'Pearson'],\n",
    "                              'user_based': [True]}\n",
    "              }\n",
    "\n",
    "# Performing 3-fold cross-validation to tune the hyperparameters\n",
    "gs = GridSearchCV(KNNBasic, param_grid, measures = ['rmse'], cv = 3)\n",
    "# Fitting the data\n",
    "gs.fit(data)\n",
    "\n",
    "# Best RMSE score\n",
    "print(gs.best_score['rmse'])\n",
    "# Combination of parameters that gave the best RMSE score\n",
    "print(gs.best_params['rmse'])"
   ]
  },
  {
   "cell_type": "markdown",
   "metadata": {
    "id": "L2fHNvu7nVNF"
   },
   "source": [
    "Once the grid search is **complete**, we can get the **optimal values for each of those hyperparameters**."
   ]
  },
  {
   "cell_type": "markdown",
   "metadata": {
    "id": "NHWgxu_YnVNG"
   },
   "source": [
    "Now, let's build the **final model by using tuned values of the hyperparameters**, which we received by using **grid search cross-validation**."
   ]
  },
  {
   "cell_type": "code",
   "execution_count": 37,
   "metadata": {
    "colab": {
     "base_uri": "https://localhost:8080/"
    },
    "id": "PujRJA8X_JEJ",
    "outputId": "6d3f289c-062c-4ed4-cfe0-1a69eecc12a8"
   },
   "outputs": [
    {
     "name": "stdout",
     "output_type": "stream",
     "text": [
      "RMSE: 1.0501\n",
      "Precision:  0.839\n",
      "Recall:  0.721\n",
      "F_1 score:  0.776\n"
     ]
    }
   ],
   "source": [
    "# Using the optimal similarity measure for user-user based collaborative filtering\n",
    "sim_options = {'name': 'cosine',\n",
    "               'user_based': True}\n",
    "# Creating an instance of KNNBasic with optimal hyperparameter values\n",
    "sim_user_optimized = KNNBasic(sim_options = sim_options, k = 50, min_k = 4, random_state = 1, verbose = False)\n",
    "# Training the algorithm on the trainset\n",
    "sim_user_optimized.fit(trainset)\n",
    "# Let us compute precision@k and recall@k also with k =10\n",
    "precision_recall_at_k(sim_user_optimized)"
   ]
  },
  {
   "cell_type": "markdown",
   "metadata": {
    "id": "yHsWvFjKTsnp"
   },
   "source": [
    "**Write your observations here:** The new estimation is pretty similar, RMSE shows a decrease but only of 0.05 and recall an improvement from 0.718 to 0.721, but precision has decreased from 0.847 to 0.839"
   ]
  },
  {
   "cell_type": "markdown",
   "metadata": {
    "id": "YhcAXK0CnVNG"
   },
   "source": [
    "### **Steps:**\n",
    "- **Predict rating for the user with `userId=\"A3LDPF5FMB782Z\"`, and `prod_id= \"1400501466\"` using the optimized model**\n",
    "- **Predict rating for `userId=\"A34BZM6S9L7QI4\"` who has not interacted with `prod_id =\"1400501466\"`, by using the optimized model**\n",
    "- **Compare the output with the output from the baseline model**"
   ]
  },
  {
   "cell_type": "code",
   "execution_count": 38,
   "metadata": {
    "colab": {
     "base_uri": "https://localhost:8080/"
    },
    "id": "FgV63lHiq1TV",
    "outputId": "edbd3d4f-d24a-492e-b690-ee6747042294"
   },
   "outputs": [
    {
     "name": "stdout",
     "output_type": "stream",
     "text": [
      "user: A3LDPF5FMB782Z item: 1400501466 r_ui = 5.00   est = 3.33   {'actual_k': 6, 'was_impossible': False}\n"
     ]
    },
    {
     "data": {
      "text/plain": [
       "Prediction(uid='A3LDPF5FMB782Z', iid='1400501466', r_ui=5, est=3.3333333333333335, details={'actual_k': 6, 'was_impossible': False})"
      ]
     },
     "execution_count": 38,
     "metadata": {},
     "output_type": "execute_result"
    }
   ],
   "source": [
    "# Use sim_user_user_optimized model to recommend for userId \"A3LDPF5FMB782Z\" and productId 1400501466\n",
    "sim_user_optimized.predict(\"A3LDPF5FMB782Z\", \"1400501466\", r_ui = 5, verbose = True)"
   ]
  },
  {
   "cell_type": "code",
   "execution_count": 39,
   "metadata": {
    "colab": {
     "base_uri": "https://localhost:8080/"
    },
    "id": "HXO2Ztjhq1bN",
    "outputId": "8f35e712-f866-4a6f-d086-b12c78d62811"
   },
   "outputs": [
    {
     "name": "stdout",
     "output_type": "stream",
     "text": [
      "user: A34BZM6S9L7QI4 item: 1400501466 r_ui = None   est = 4.26   {'was_impossible': True, 'reason': 'Not enough neighbors.'}\n"
     ]
    },
    {
     "data": {
      "text/plain": [
       "Prediction(uid='A34BZM6S9L7QI4', iid='1400501466', r_ui=None, est=4.263416620322555, details={'was_impossible': True, 'reason': 'Not enough neighbors.'})"
      ]
     },
     "execution_count": 39,
     "metadata": {},
     "output_type": "execute_result"
    }
   ],
   "source": [
    "# Use sim_user_user_optimized model to recommend for userId \"A34BZM6S9L7QI4\" and productId \"1400501466\"\n",
    "sim_user_optimized.predict(\"A34BZM6S9L7QI4\", \"1400501466\", verbose = True)"
   ]
  },
  {
   "cell_type": "markdown",
   "metadata": {
    "id": "s5i-OPprNF2e"
   },
   "source": [
    "**Write your observations here:** The estimation for A3LDPF5FMB782Z is the same 3.33 and the user A34BZM6S9L7QI4 has been associated to the product 1400501466 the rating of 4.26"
   ]
  },
  {
   "cell_type": "markdown",
   "metadata": {
    "id": "op_zwO_FnVNH"
   },
   "source": [
    "### **Identifying similar users to a given user (nearest neighbors)**"
   ]
  },
  {
   "cell_type": "markdown",
   "metadata": {
    "id": "o2QsfqhanVNH"
   },
   "source": [
    "We can also find out **similar users to a given user** or its **nearest neighbors** based on this KNNBasic algorithm. Below, we are finding the 5 most similar users to the first user in the list with internal id 0, based on the `msd` distance metric."
   ]
  },
  {
   "cell_type": "code",
   "execution_count": 40,
   "metadata": {
    "colab": {
     "base_uri": "https://localhost:8080/"
    },
    "id": "TbFle7cKmBJG",
    "outputId": "1b80084e-f1cf-4ad6-c2e8-f86500b0c77e"
   },
   "outputs": [
    {
     "data": {
      "text/plain": [
       "[3, 4, 5, 6, 8]"
      ]
     },
     "execution_count": 40,
     "metadata": {},
     "output_type": "execute_result"
    }
   ],
   "source": [
    "# 0 is the inner id of the above user\n",
    "sim_user_optimized.get_neighbors(0, k = 5)"
   ]
  },
  {
   "cell_type": "markdown",
   "metadata": {
    "id": "Z0NsrX_anVNH"
   },
   "source": [
    "### **Implementing the recommendation algorithm based on optimized KNNBasic model**"
   ]
  },
  {
   "cell_type": "markdown",
   "metadata": {
    "id": "U3ESobDynVNI"
   },
   "source": [
    "Below we will be implementing a function where the input parameters are:\n",
    "\n",
    "- data: A **rating** dataset\n",
    "- user_id: A user id **against which we want the recommendations**\n",
    "- top_n: The **number of products we want to recommend**\n",
    "- algo: the algorithm we want to use **for predicting the ratings**\n",
    "- The output of the function is a **set of top_n items** recommended for the given user_id based on the given algorithm"
   ]
  },
  {
   "cell_type": "code",
   "execution_count": 41,
   "metadata": {
    "id": "vW9V1Tk65HlY"
   },
   "outputs": [],
   "source": [
    "def get_recommendations(data, user_id, top_n, algo):\n",
    "\n",
    "    # Creating an empty list to store the recommended product ids\n",
    "    recommendations = []\n",
    "\n",
    "    # Creating an user item interactions matrix\n",
    "    user_item_interactions_matrix = data.pivot(index = 'user_id', columns = 'prod_id', values = 'rating')\n",
    "\n",
    "    # Extracting those product ids which the user_id has not interacted yet\n",
    "    non_interacted_products = user_item_interactions_matrix.loc[user_id][user_item_interactions_matrix.loc[user_id].isnull()].index.tolist()\n",
    "\n",
    "    # Looping through each of the product ids which user_id has not interacted yet\n",
    "    for item_id in non_interacted_products:\n",
    "\n",
    "        # Predicting the ratings for those non interacted product ids by this user\n",
    "        est = algo.predict(user_id, item_id).est\n",
    "\n",
    "        # Appending the predicted ratings\n",
    "        recommendations.append((item_id, est))\n",
    "\n",
    "    # Sorting the predicted ratings in descending order\n",
    "    recommendations.sort(key = lambda x: x[1], reverse = True)\n",
    "\n",
    "    return recommendations[:top_n] # Returing top n highest predicted rating products for this user"
   ]
  },
  {
   "cell_type": "markdown",
   "metadata": {
    "id": "Oj_S7kh4nVNI"
   },
   "source": [
    "**Predicting top 5 products for userId = \"A3LDPF5FMB782Z\" with similarity based recommendation system**"
   ]
  },
  {
   "cell_type": "code",
   "execution_count": 42,
   "metadata": {
    "id": "qWbR85mI5Hrk"
   },
   "outputs": [],
   "source": [
    "# Making top 5 recommendations for user_id \"A3LDPF5FMB782Z\" with a similarity-based recommendation engine\n",
    "recommendations = get_recommendations(df_final, \"A3LDPF5FMB782Z\", 5, sim_user_optimized)"
   ]
  },
  {
   "cell_type": "code",
   "execution_count": 43,
   "metadata": {
    "colab": {
     "base_uri": "https://localhost:8080/",
     "height": 206
    },
    "id": "b5WfIX0Z6_q2",
    "outputId": "459ca896-0739-4b6e-e1ac-bb928034052e"
   },
   "outputs": [
    {
     "data": {
      "text/html": [
       "<div>\n",
       "<style scoped>\n",
       "    .dataframe tbody tr th:only-of-type {\n",
       "        vertical-align: middle;\n",
       "    }\n",
       "\n",
       "    .dataframe tbody tr th {\n",
       "        vertical-align: top;\n",
       "    }\n",
       "\n",
       "    .dataframe thead th {\n",
       "        text-align: right;\n",
       "    }\n",
       "</style>\n",
       "<table border=\"1\" class=\"dataframe\">\n",
       "  <thead>\n",
       "    <tr style=\"text-align: right;\">\n",
       "      <th></th>\n",
       "      <th>prod_id</th>\n",
       "      <th>predicted_ratings</th>\n",
       "    </tr>\n",
       "  </thead>\n",
       "  <tbody>\n",
       "    <tr>\n",
       "      <th>0</th>\n",
       "      <td>B000067RT6</td>\n",
       "      <td>5</td>\n",
       "    </tr>\n",
       "    <tr>\n",
       "      <th>1</th>\n",
       "      <td>B00006RVPW</td>\n",
       "      <td>5</td>\n",
       "    </tr>\n",
       "    <tr>\n",
       "      <th>2</th>\n",
       "      <td>B000075UZ7</td>\n",
       "      <td>5</td>\n",
       "    </tr>\n",
       "    <tr>\n",
       "      <th>3</th>\n",
       "      <td>B00009R6WT</td>\n",
       "      <td>5</td>\n",
       "    </tr>\n",
       "    <tr>\n",
       "      <th>4</th>\n",
       "      <td>B00009R94Q</td>\n",
       "      <td>5</td>\n",
       "    </tr>\n",
       "  </tbody>\n",
       "</table>\n",
       "</div>"
      ],
      "text/plain": [
       "      prod_id  predicted_ratings\n",
       "0  B000067RT6                  5\n",
       "1  B00006RVPW                  5\n",
       "2  B000075UZ7                  5\n",
       "3  B00009R6WT                  5\n",
       "4  B00009R94Q                  5"
      ]
     },
     "execution_count": 43,
     "metadata": {},
     "output_type": "execute_result"
    }
   ],
   "source": [
    "# Building the dataframe for above recommendations with columns \"prod_id\" and \"predicted_ratings\"\n",
    "pd.DataFrame(recommendations, columns = ['prod_id', 'predicted_ratings'])"
   ]
  },
  {
   "cell_type": "markdown",
   "metadata": {
    "id": "QgbzJKk7Tsnr"
   },
   "source": [
    "### **Item-Item Similarity-based Collaborative Filtering Recommendation System**"
   ]
  },
  {
   "cell_type": "markdown",
   "metadata": {
    "id": "qTJu_2hcTsnr"
   },
   "source": [
    "* Above we have seen **similarity-based collaborative filtering** where similarity is calculated **between users**. Now let us look into similarity-based collaborative filtering where similarity is seen **between items**."
   ]
  },
  {
   "cell_type": "code",
   "execution_count": 44,
   "metadata": {},
   "outputs": [],
   "source": [
    "# Instantiating Reader scale with expected rating scale\n",
    "reader = Reader(rating_scale = (0, 5))\n",
    "# Loading the rating dataset\n",
    "data = Dataset.load_from_df(df[['user_id','prod_id', 'rating']][:100000], reader)\n",
    "# Splitting the data into train and test datasets\n",
    "trainset, testset = train_test_split(data, test_size = 0.2, random_state = 42)"
   ]
  },
  {
   "cell_type": "code",
   "execution_count": 45,
   "metadata": {
    "colab": {
     "base_uri": "https://localhost:8080/",
     "height": 228
    },
    "id": "W5RMcdzjTsns",
    "outputId": "333e3084-4689-4313-e685-dc1f768204d7"
   },
   "outputs": [
    {
     "name": "stdout",
     "output_type": "stream",
     "text": [
      "RMSE: 1.1286\n",
      "Precision:  0.821\n",
      "Recall:  0.793\n",
      "F_1 score:  0.807\n"
     ]
    }
   ],
   "source": [
    "# Declaring the similarity options\n",
    "sim_options = {'name': 'cosine',\n",
    "               'user_based': False}\n",
    "# KNN algorithm is used to find desired similar items. Use random_state=1\n",
    "sim_item = KNNBasic(sim_options = sim_options, random_state = 1, verbose = False)\n",
    "# Train the algorithm on the trainset, and predict ratings for the test set\n",
    "sim_item.fit(trainset)\n",
    "# Let us compute precision@k, recall@k, and f_1 score with k = 10\n",
    "precision_recall_at_k(sim_item)"
   ]
  },
  {
   "cell_type": "markdown",
   "metadata": {
    "id": "ni9LoeUVTsns"
   },
   "source": [
    "**Write your observations here:** Given the amount of users, the memory needed to calculate KNNBasic is above 12 GB which is the memory given for google colab free, as a solution I had to reduce the number of users in order to study item-item colaborative filtering. The results are very similar to the user-user similarity but with worse results in recall but better results in f1_score (f_1 score was 0.777 and with item-item similarity is 0.807) This is because the improvement of accuracy"
   ]
  },
  {
   "cell_type": "markdown",
   "metadata": {
    "id": "jFbcDQmxTsns"
   },
   "source": [
    "Let's now **predict a rating for a user with `userId = A3LDPF5FMB782Z` and `prod_Id = 1400501466`** as shown below. Here the user has already interacted or watched the product with productId \"1400501466\"."
   ]
  },
  {
   "cell_type": "code",
   "execution_count": 48,
   "metadata": {
    "id": "JsF-aaWYTsns"
   },
   "outputs": [
    {
     "name": "stdout",
     "output_type": "stream",
     "text": [
      "user: A3LDPF5FMB782Z item: 1400501466 r_ui = 5.00   est = 4.17   {'actual_k': 40, 'was_impossible': False}\n"
     ]
    },
    {
     "data": {
      "text/plain": [
       "Prediction(uid='A3LDPF5FMB782Z', iid='1400501466', r_ui=5, est=4.175, details={'actual_k': 40, 'was_impossible': False})"
      ]
     },
     "execution_count": 48,
     "metadata": {},
     "output_type": "execute_result"
    }
   ],
   "source": [
    "# Predicting rating for a sample user with an interacted product\n",
    "sim_item.predict(\"A3LDPF5FMB782Z\", \"1400501466\", r_ui = 5, verbose = True)"
   ]
  },
  {
   "cell_type": "markdown",
   "metadata": {
    "id": "2h0OyDMFTsns"
   },
   "source": [
    "**Write your observations here:**The prediction shows an estimated of 4.17 which is closer to the 5"
   ]
  },
  {
   "cell_type": "markdown",
   "metadata": {
    "id": "BqKGZoAtTsns"
   },
   "source": [
    "Below we are **predicting rating for the `userId = A34BZM6S9L7QI4` and `prod_id = 1400501466`**."
   ]
  },
  {
   "cell_type": "code",
   "execution_count": 49,
   "metadata": {
    "id": "5yILOxXRTsns"
   },
   "outputs": [
    {
     "name": "stdout",
     "output_type": "stream",
     "text": [
      "user: A34BZM6S9L7QI4 item: 1400501466 r_ui = None   est = 4.25   {'was_impossible': True, 'reason': 'Not enough neighbors.'}\n"
     ]
    },
    {
     "data": {
      "text/plain": [
       "Prediction(uid='A34BZM6S9L7QI4', iid='1400501466', r_ui=None, est=4.24985, details={'was_impossible': True, 'reason': 'Not enough neighbors.'})"
      ]
     },
     "execution_count": 49,
     "metadata": {},
     "output_type": "execute_result"
    }
   ],
   "source": [
    "# Predicting rating for a sample user with a non interacted product\n",
    "sim_item.predict(\"A34BZM6S9L7QI4\", \"1400501466\", verbose = True)"
   ]
  },
  {
   "cell_type": "markdown",
   "metadata": {
    "id": "sDKaAveJTsns"
   },
   "source": [
    "**Write your observations here:** The rating estimation was 4.25 given the amount of data is possible that there were no enough neighbors"
   ]
  },
  {
   "cell_type": "markdown",
   "metadata": {
    "id": "meSvpNLj_EjD",
    "jupyter": {
     "source_hidden": true
    }
   },
   "source": [
    "### **Hyperparameter tuning the item-item similarity-based model**\n",
    "- Use the following values for the param_grid and tune the model.\n",
    "  - 'k': [10, 20, 30]\n",
    "  - 'min_k': [3, 6, 9]\n",
    "  - 'sim_options': {'name': ['msd', 'cosine']\n",
    "  - 'user_based': [False]\n",
    "- Use GridSearchCV() to tune the model using the 'rmse' measure\n",
    "- Print the best score and best parameters"
   ]
  },
  {
   "cell_type": "code",
   "execution_count": null,
   "metadata": {
    "id": "f5bcZ3HgTsnt"
   },
   "outputs": [
    {
     "name": "stdout",
     "output_type": "stream",
     "text": [
      "Computing the msd similarity matrix...\n",
      "Done computing similarity matrix.\n",
      "Computing the msd similarity matrix...\n",
      "Done computing similarity matrix.\n",
      "Computing the msd similarity matrix...\n",
      "Done computing similarity matrix.\n",
      "Computing the cosine similarity matrix...\n",
      "Done computing similarity matrix.\n",
      "Computing the cosine similarity matrix...\n",
      "Done computing similarity matrix.\n",
      "Computing the cosine similarity matrix...\n",
      "Done computing similarity matrix.\n",
      "Computing the msd similarity matrix...\n",
      "Done computing similarity matrix.\n",
      "Computing the msd similarity matrix...\n",
      "Done computing similarity matrix.\n",
      "Computing the msd similarity matrix...\n",
      "Done computing similarity matrix.\n",
      "Computing the cosine similarity matrix...\n",
      "Done computing similarity matrix.\n",
      "Computing the cosine similarity matrix...\n",
      "Done computing similarity matrix.\n",
      "Computing the cosine similarity matrix...\n",
      "Done computing similarity matrix.\n",
      "Computing the msd similarity matrix...\n",
      "Done computing similarity matrix.\n",
      "Computing the msd similarity matrix...\n",
      "Done computing similarity matrix.\n",
      "Computing the msd similarity matrix...\n",
      "Done computing similarity matrix.\n",
      "Computing the cosine similarity matrix...\n",
      "Done computing similarity matrix.\n",
      "Computing the cosine similarity matrix...\n",
      "Done computing similarity matrix.\n",
      "Computing the cosine similarity matrix...\n",
      "Done computing similarity matrix.\n",
      "Computing the msd similarity matrix...\n",
      "Done computing similarity matrix.\n",
      "Computing the msd similarity matrix...\n",
      "Done computing similarity matrix.\n",
      "Computing the msd similarity matrix...\n",
      "Done computing similarity matrix.\n",
      "Computing the cosine similarity matrix...\n",
      "Done computing similarity matrix.\n",
      "Computing the cosine similarity matrix...\n",
      "Done computing similarity matrix.\n",
      "Computing the cosine similarity matrix...\n",
      "Done computing similarity matrix.\n",
      "Computing the msd similarity matrix...\n",
      "Done computing similarity matrix.\n",
      "Computing the msd similarity matrix...\n",
      "Done computing similarity matrix.\n",
      "Computing the msd similarity matrix...\n",
      "Done computing similarity matrix.\n",
      "Computing the cosine similarity matrix...\n",
      "Done computing similarity matrix.\n",
      "Computing the cosine similarity matrix...\n",
      "Done computing similarity matrix.\n",
      "Computing the cosine similarity matrix...\n",
      "Done computing similarity matrix.\n",
      "Computing the msd similarity matrix...\n",
      "Done computing similarity matrix.\n",
      "Computing the msd similarity matrix...\n",
      "Done computing similarity matrix.\n",
      "Computing the msd similarity matrix...\n",
      "Done computing similarity matrix.\n",
      "Computing the cosine similarity matrix...\n",
      "Done computing similarity matrix.\n",
      "Computing the cosine similarity matrix...\n",
      "Done computing similarity matrix.\n"
     ]
    }
   ],
   "source": [
    "# Setting up parameter grid to tune the hyperparameters\n",
    "param_grid = {'k': [10, 20, 30], 'min_k': [3, 6, 9],\n",
    "              'sim_options': {'name': ['msd', 'cosine'],\n",
    "                              'user_based': [False]}\n",
    "              }\n",
    "\n",
    "# Performing 3-fold cross validation to tune the hyperparameters\n",
    "gs = GridSearchCV(KNNBasic, param_grid, measures = ['rmse'], cv = 3, n_jobs = -1)\n",
    "\n",
    "# Fitting the data\n",
    "gs.fit(data)\n",
    "\n",
    "# Find the best RMSE score\n",
    "print(gs.best_score['rmse'])\n",
    "\n",
    "# Find the combination of parameters that gave the best RMSE score\n",
    "print(gs.best_params['rmse'])\n",
    "\n"
   ]
  },
  {
   "cell_type": "markdown",
   "metadata": {
    "id": "1psOlx6zTsnt"
   },
   "source": [
    "Once the **grid search** is complete, we can get the **optimal values for each of those hyperparameters as shown above.**"
   ]
  },
  {
   "cell_type": "markdown",
   "metadata": {
    "id": "JrSTaQemTsnt"
   },
   "source": [
    "Now let's build the **final model** by using **tuned values of the hyperparameters** which we received by using grid search cross-validation."
   ]
  },
  {
   "cell_type": "markdown",
   "metadata": {
    "id": "kOS9Dwnd_LN6"
   },
   "source": [
    "### **Use the best parameters from GridSearchCV to build the optimized item-item similarity-based model. Compare the performance of the optimized model with the baseline model.**"
   ]
  },
  {
   "cell_type": "code",
   "execution_count": null,
   "metadata": {
    "id": "dSeiM1qeTsnt"
   },
   "outputs": [],
   "source": [
    "# Using the optimal similarity measure for item-item based collaborative filtering\n",
    "sim_options = {'name': 'cosine',\n",
    "               'user_based': True}\n",
    "\n",
    "# Creating an instance of KNNBasic with optimal hyperparameter values\n",
    "sim_item_optimized = KNNBasic(sim_options = sim_options, k = 50, min_k = 4, random_state = 1, verbose = False)\n",
    "\n",
    "# Training the algorithm on the trainset\n",
    "sim_item_optimized.fit(trainset)\n",
    "# Let us compute precision@k and recall@k, f1_score and RMSE\n",
    "precision_recall_at_k(sim_item_optimized)\n",
    "\n",
    "#user-user\n",
    "#RMSE: 1.1067\n",
    "#Precision:  0.847\n",
    "#Recall:  0.718\n",
    "#F_1 score:  0.777\n",
    "#\n",
    "#item-item\n",
    "#RMSE: 1.1286\n",
    "#Precision:  0.821\n",
    "#Recall:  0.793\n",
    "#F_1 score:  0.807\n",
    "\n",
    "\n",
    "\n",
    "\n"
   ]
  },
  {
   "cell_type": "markdown",
   "metadata": {
    "id": "ZCXKnMI8Tsnt"
   },
   "source": [
    "**Write your observations here:__________**"
   ]
  },
  {
   "cell_type": "markdown",
   "metadata": {
    "id": "Sbcj_H94Tsnt"
   },
   "source": [
    "### **Steps:**\n",
    "- **Predict rating for the user with `userId=\"A3LDPF5FMB782Z\"`, and `prod_id= \"1400501466\"` using the optimized model**\n",
    "- **Predict rating for `userId=\"A34BZM6S9L7QI4\"` who has not interacted with `prod_id =\"1400501466\"`, by using the optimized model**\n",
    "- **Compare the output with the output from the baseline model**"
   ]
  },
  {
   "cell_type": "code",
   "execution_count": null,
   "metadata": {
    "id": "gIBRRvdoTsnt"
   },
   "outputs": [],
   "source": [
    "# Use sim_item_item_optimized model to recommend for userId \"A3LDPF5FMB782Z\" and productId \"1400501466\"\n",
    "sim_item_optimized.predict(\"A3LDPF5FMB782Z\", \"1400501466\", r_ui = 5, verbose = True)"
   ]
  },
  {
   "cell_type": "code",
   "execution_count": null,
   "metadata": {
    "id": "SaJifhdPZ37g"
   },
   "outputs": [],
   "source": [
    "# Use sim_item_item_optimized model to recommend for userId \"A34BZM6S9L7QI4\" and productId \"1400501466\"\n",
    "sim_item_optimized.predict(\"A34BZM6S9L7QI4\", \"1400501466\", verbose = True)"
   ]
  },
  {
   "cell_type": "markdown",
   "metadata": {
    "id": "-fkncyPFZ37g"
   },
   "source": [
    "**Write your observations here:__________**"
   ]
  },
  {
   "cell_type": "markdown",
   "metadata": {
    "id": "MDlNB7tnTsnu"
   },
   "source": [
    "### **Identifying similar items to a given item (nearest neighbors)**"
   ]
  },
  {
   "cell_type": "markdown",
   "metadata": {
    "id": "RLdDiFA6Tsnu"
   },
   "source": [
    "We can also find out **similar items** to a given item or its nearest neighbors based on this **KNNBasic algorithm**. Below we are finding the 5 most similar items to the item with internal id 0 based on the `msd` distance metric."
   ]
  },
  {
   "cell_type": "code",
   "execution_count": null,
   "metadata": {
    "id": "ZRJS4oDFTsnu"
   },
   "outputs": [],
   "source": [
    "sim_item_optimized.get_neighbors(0, k = 5)"
   ]
  },
  {
   "cell_type": "markdown",
   "metadata": {
    "id": "d5wWJDE7Z37h"
   },
   "source": [
    "**Predicting top 5 products for userId = \"A1A5KUIIIHFF4U\" with similarity based recommendation system.**\n",
    "\n",
    "**Hint:** Use the get_recommendations() function."
   ]
  },
  {
   "cell_type": "code",
   "execution_count": null,
   "metadata": {
    "id": "rzoEbuZFTsnu"
   },
   "outputs": [],
   "source": [
    "# Making top 5 recommendations for user_id A1A5KUIIIHFF4U with similarity-based recommendation engine.\n",
    "recommendations = get_recommendations(df_final[:100000], \"A1A5KUIIIHFF4U\", 5, sim_item_optimized)"
   ]
  },
  {
   "cell_type": "code",
   "execution_count": null,
   "metadata": {
    "id": "_kXVTiysTsnv"
   },
   "outputs": [],
   "source": [
    "# Building the dataframe for above recommendations with columns \"prod_id\" and \"predicted_ratings\"\n",
    "pd.DataFrame(recommendations, columns = ['prod_id', 'predicted_ratings'])"
   ]
  },
  {
   "cell_type": "markdown",
   "metadata": {
    "id": "DHzmYvs0Tsnv"
   },
   "source": [
    "Now as we have seen **similarity-based collaborative filtering algorithms**, let us now get into **model-based collaborative filtering algorithms**."
   ]
  },
  {
   "cell_type": "markdown",
   "metadata": {
    "id": "rKgJpSA9vOOL"
   },
   "source": [
    "### **Model 3: Model-Based Collaborative Filtering - Matrix Factorization**"
   ]
  },
  {
   "cell_type": "markdown",
   "metadata": {
    "id": "YF6ZGyqhCAob"
   },
   "source": [
    "Model-based Collaborative Filtering is a **personalized recommendation system**, the recommendations are based on the past behavior of the user and it is not dependent on any additional information. We use **latent features** to find recommendations for each user."
   ]
  },
  {
   "cell_type": "markdown",
   "metadata": {
    "id": "n4Otha8ovOOL"
   },
   "source": [
    "### Singular Value Decomposition (SVD)"
   ]
  },
  {
   "cell_type": "markdown",
   "metadata": {
    "id": "3sGl3QkLvOOL"
   },
   "source": [
    "SVD is used to **compute the latent features** from the **user-item matrix**. But SVD does not work when we **miss values** in the **user-item matrix**."
   ]
  },
  {
   "cell_type": "code",
   "execution_count": null,
   "metadata": {
    "id": "07-2PT5Ssjqm"
   },
   "outputs": [],
   "source": [
    "# Using SVD matrix factorization. Use random_state = 1\n",
    "svd = SVD(random_state = 1)\n",
    "# Training the algorithm on the trainset\n",
    "svd.fit(trainset)\n",
    "# Use the function precision_recall_at_k to compute precision@k, recall@k, F1-Score, and RMSE\n",
    "precision_recall_at_k(svd)"
   ]
  },
  {
   "cell_type": "markdown",
   "metadata": {
    "id": "BQ6fTuCDnVNL"
   },
   "source": [
    "**Write your observations here:___________**"
   ]
  },
  {
   "cell_type": "markdown",
   "metadata": {
    "id": "UyoiB7GRZ37j"
   },
   "source": [
    "**Let's now predict the rating for a user with `userId = \"A3LDPF5FMB782Z\"` and `prod_id = \"1400501466`.**"
   ]
  },
  {
   "cell_type": "code",
   "execution_count": null,
   "metadata": {
    "id": "yWIhfdxXsjqm"
   },
   "outputs": [],
   "source": [
    "# Making prediction\n",
    "svd.predict(\"A3LDPF5FMB782Z\", \"1400501466\", r_ui = 5, verbose = True)"
   ]
  },
  {
   "cell_type": "markdown",
   "metadata": {
    "id": "oIjzqDY5nVNM"
   },
   "source": [
    "**Write your observations here:___________**"
   ]
  },
  {
   "cell_type": "markdown",
   "metadata": {
    "id": "I1aYxVeMnVNM"
   },
   "source": [
    "**Below we are predicting rating for the `userId = \"A34BZM6S9L7QI4\"` and `productId = \"1400501466\"`.**"
   ]
  },
  {
   "cell_type": "code",
   "execution_count": null,
   "metadata": {
    "id": "APm-uMSvcAMf"
   },
   "outputs": [],
   "source": [
    "# Making prediction\n",
    "svd.predict(\"A34BZM6S9L7QI4\", \"1400501466\", r_ui = 5, verbose = True)"
   ]
  },
  {
   "cell_type": "markdown",
   "metadata": {
    "id": "NEL6dy3wnVNM"
   },
   "source": [
    "**Write your observations here:___________**"
   ]
  },
  {
   "cell_type": "markdown",
   "metadata": {
    "id": "x13Eb9Owvpcw"
   },
   "source": [
    "### **Improving Matrix Factorization based recommendation system by tuning its hyperparameters**"
   ]
  },
  {
   "cell_type": "markdown",
   "metadata": {
    "id": "iQcDPhhcnVNN"
   },
   "source": [
    "Below we will be tuning only three hyperparameters:\n",
    "- **n_epochs**: The number of iterations of the SGD algorithm.\n",
    "- **lr_all**: The learning rate for all parameters.\n",
    "- **reg_all**: The regularization term for all parameters."
   ]
  },
  {
   "cell_type": "code",
   "execution_count": null,
   "metadata": {
    "id": "4bM81V_hvtwv"
   },
   "outputs": [],
   "source": [
    "# Set the parameter space to tune\n",
    "param_grid = {'n_epochs': [10, 20, 30], 'lr_all': [0.001, 0.005, 0.01],\n",
    "              'reg_all': [0.2, 0.4, 0.6]}\n",
    "# Performing 3-fold gridsearch cross-validation\n",
    "gs = GridSearchCV(SVD, param_grid, measures = ['rmse'], cv = 3, n_jobs = -1)\n",
    "# Fitting data\n",
    "gs.fit(data)\n",
    "# Best RMSE score\n",
    "print(gs.best_score['rmse'])\n",
    "# Combination of parameters that gave the best RMSE score\n",
    "print(gs.best_params['rmse'])"
   ]
  },
  {
   "cell_type": "markdown",
   "metadata": {
    "id": "KzY78HsrnVNO"
   },
   "source": [
    "Now, we will **the build final model** by using **tuned values** of the hyperparameters, which we received using grid search cross-validation above."
   ]
  },
  {
   "cell_type": "code",
   "execution_count": null,
   "metadata": {
    "id": "TA_7xe-nnhuu"
   },
   "outputs": [],
   "source": [
    "# Build the optimized SVD model using optimal hyperparameter search. Use random_state=1\n",
    "svd_optimized = SVD(n_epochs = 20, lr_all = 0.01, reg_all = 0.2, random_state = 1)\n",
    "# Train the algorithm on the trainset\n",
    "svd_optimized = svd_optimized.fit(trainset)\n",
    "# Use the function precision_recall_at_k to compute precision@k, recall@k, F1-Score, and RMSE\n",
    "precision_recall_at_k(svd_optimized)"
   ]
  },
  {
   "cell_type": "markdown",
   "metadata": {
    "id": "9HJvPsjITsny"
   },
   "source": [
    "**Write your observations here:_____________**"
   ]
  },
  {
   "cell_type": "markdown",
   "metadata": {
    "id": "E84t-kYkZ37l"
   },
   "source": [
    "### **Steps:**\n",
    "- **Predict rating for the user with `userId=\"A3LDPF5FMB782Z\"`, and `prod_id= \"1400501466\"` using the optimized model**\n",
    "- **Predict rating for `userId=\"A34BZM6S9L7QI4\"` who has not interacted with `prod_id =\"1400501466\"`, by using the optimized model**\n",
    "- **Compare the output with the output from the baseline model**"
   ]
  },
  {
   "cell_type": "code",
   "execution_count": null,
   "metadata": {
    "id": "4H3fYjOTZ37l"
   },
   "outputs": [],
   "source": [
    "# Use svd_algo_optimized model to recommend for userId \"A3LDPF5FMB782Z\" and productId \"1400501466\"\n",
    "svd_optimized.predict(\"rLtl8ZkDX5vH5nAx9C3q5Q\", \"9yKzy9PApeiPPOUJEtnvkg\", r_ui = 5, verbose = True)"
   ]
  },
  {
   "cell_type": "code",
   "execution_count": null,
   "metadata": {
    "id": "VkIxuv6KZ37l"
   },
   "outputs": [],
   "source": [
    "# Use svd_algo_optimized model to recommend for userId \"A34BZM6S9L7QI4\" and productId \"1400501466\"\n",
    "svd_optimized.predict(\"rLtl8ZkDX5vH5nAx9C3q5Q\", \"zp713qNhx8d9KCJJnrw1xA\", verbose = True)"
   ]
  },
  {
   "cell_type": "markdown",
   "metadata": {
    "id": "nnwPwgjB8DwS"
   },
   "source": [
    "### **Conclusion and Recommendations**"
   ]
  },
  {
   "cell_type": "markdown",
   "metadata": {
    "id": "xuqnifw9NF2p"
   },
   "source": [
    "**Write your conclusion and recommendations here**\n",
    "\n"
   ]
  }
 ],
 "metadata": {
  "colab": {
   "provenance": [],
   "toc_visible": true
  },
  "kernelspec": {
   "display_name": "Python 3 (ipykernel)",
   "language": "python",
   "name": "python3"
  },
  "language_info": {
   "codemirror_mode": {
    "name": "ipython",
    "version": 3
   },
   "file_extension": ".py",
   "mimetype": "text/x-python",
   "name": "python",
   "nbconvert_exporter": "python",
   "pygments_lexer": "ipython3",
   "version": "3.10.18"
  },
  "toc": {
   "base_numbering": 1,
   "nav_menu": {},
   "number_sections": true,
   "sideBar": true,
   "skip_h1_title": false,
   "title_cell": "Table of Contents",
   "title_sidebar": "Contents",
   "toc_cell": false,
   "toc_position": {},
   "toc_section_display": true,
   "toc_window_display": true
  }
 },
 "nbformat": 4,
 "nbformat_minor": 4
}
